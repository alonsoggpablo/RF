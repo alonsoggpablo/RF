{
 "cells": [
  {
   "cell_type": "markdown",
   "metadata": {},
   "source": [
    "# **AISaturdays Rental Challenge**\n",
    "\n",
    "![AISaturdays](https://www.saturdays.ai/assets/images/ai-saturdays-122x122.png)\n",
    "\n",
    "Bienvenido al reto de **AISaturdays** de Inteligencia Artificial para la predicci�n de precios de rentals de los barrios de una ciudad. En este ejercicio estimaremos el precio de una oferta de alquiler, dependiendo de unos datos descritos m�s abajo.\n",
    "\n",
    "**Instrucciones:**\n",
    "\n",
    "- Se usar� el lenguaje de programaci�n Python 3.\n",
    "- Se usar�n las librer�as de python: Pandas, MatPlotLib, Numpy.\n",
    "\n",
    "**Mediante este ejercicio, aprenderemos:**\n",
    "- Entender y ejecutar los NoteBooks con Python.\n",
    "- Ser capaz de utilizar funciones de Python y librer�as adicionales.\n",
    "- Dataset:\n",
    " - Obtener el dataset y previsualizar la informaci�n del dataset.\n",
    " - Limpiar y normalizar la informaci�n del dataset.\n",
    " - Representar y analizar la informaci�n del dataset.\n",
    "- Aplicar el algoritmo de Random Forest\n",
    "- Mejorar la predicci�n usando Hyperparameter Tunning, Feature engineering y Gradient Boosting\n",
    "\n",
    "�Empecemos!\n"
   ]
  },
  {
   "cell_type": "markdown",
   "metadata": {},
   "source": [
    "#1.Importaci�n de librerias "
   ]
  },
  {
   "cell_type": "code",
   "execution_count": 1,
   "metadata": {
    "pycharm": {
     "is_executing": false
    }
   },
   "outputs": [],
   "source": [
    "import pandas as pd\n",
    "import matplotlib\n",
    "import matplotlib.pyplot as plt\n",
    "import seaborn as sns\n",
    "import numpy as np\n",
    "import statsmodels.api as sm\n",
    "import scipy.stats as stats"
   ]
  },
  {
   "cell_type": "markdown",
   "metadata": {},
   "source": [
    "#2. Dataset"
   ]
  },
  {
   "cell_type": "markdown",
   "metadata": {},
   "source": [
    "0. Lee el .csv con los datos y muestra las primeras filas."
   ]
  },
  {
   "cell_type": "code",
   "execution_count": 2,
   "metadata": {
    "pycharm": {
     "is_executing": false
    }
   },
   "outputs": [
    {
     "name": "stdout",
     "output_type": "stream",
     "text": [
      "   Unnamed: 0        id                                 name   host_id  \\\n",
      "0       35706  28341280                 Bushwick Rustic Loft  10812370   \n",
      "1        2434   1213991  Private 2 bedroom Midtown Manhattan   6626827   \n",
      "\n",
      "  host_name neighbourhood_group   neighbourhood  latitude  longitude  \\\n",
      "0        Al            Brooklyn        Bushwick  40.69987  -73.91821   \n",
      "1     Steve           Manhattan  Hell's Kitchen  40.76247  -73.99294   \n",
      "\n",
      "      room_type  minimum_nights  number_of_reviews last_review  \\\n",
      "0  Private room               1                 28  2019-07-07   \n",
      "1  Private room               4                 77  2019-06-19   \n",
      "\n",
      "   reviews_per_month  calculated_host_listings_count  availability_365  price  \n",
      "0               2.75                               1                36     69  \n",
      "1               1.81                               1                21    240  \n"
     ]
    }
   ],
   "source": [
    "#Dos lineas de c�digo\n",
    "data=pd.read_csv('data.csv')\n",
    "print (data.head(2))"
   ]
  },
  {
   "cell_type": "markdown",
   "metadata": {},
   "source": [
    "1. Muestra el numero de features y ejemplos en el dataset."
   ]
  },
  {
   "cell_type": "code",
   "execution_count": 3,
   "metadata": {
    "pycharm": {
     "is_executing": false
    }
   },
   "outputs": [
    {
     "name": "stdout",
     "output_type": "stream",
     "text": [
      "(32759, 17)\n"
     ]
    }
   ],
   "source": [
    "# S�lo con una l�nea de c�digo\n",
    "print (data.shape)"
   ]
  },
  {
   "cell_type": "markdown",
   "metadata": {},
   "source": [
    "2. Obt�n que tipos de datos (dtypes) contiene el dataset."
   ]
  },
  {
   "cell_type": "code",
   "execution_count": 4,
   "metadata": {
    "pycharm": {
     "is_executing": false
    }
   },
   "outputs": [
    {
     "name": "stdout",
     "output_type": "stream",
     "text": [
      "Unnamed: 0                          int64\n",
      "id                                  int64\n",
      "name                               object\n",
      "host_id                             int64\n",
      "host_name                          object\n",
      "neighbourhood_group                object\n",
      "neighbourhood                      object\n",
      "latitude                          float64\n",
      "longitude                         float64\n",
      "room_type                          object\n",
      "minimum_nights                      int64\n",
      "number_of_reviews                   int64\n",
      "last_review                        object\n",
      "reviews_per_month                 float64\n",
      "calculated_host_listings_count      int64\n",
      "availability_365                    int64\n",
      "price                               int64\n",
      "dtype: object\n"
     ]
    }
   ],
   "source": [
    "# S�lo con una l�nea de c�digo\n",
    "print (data.dtypes)\n"
   ]
  },
  {
   "cell_type": "markdown",
   "metadata": {},
   "source": [
    "### Variables\n",
    "\n",
    "\n",
    "\n",
    "* **Id/name:**  Identificador y nombre de la oferta.\n",
    "\n",
    "* **host_id/host_name:** Identificador y nombre del anfitri�n.\n",
    "\n",
    "* **neighbourhood_group/neighbourhood:** Zona y barrio de la oferta. Cada zona es una agrupaci�n de barrios.\n",
    "* **latitude/longitude:** Latitud y longitud de la oferta.\n",
    "\n",
    "* **room_type:** Que tipo de habitaci�n se oferta. Puede ser el apartamento o casa entero, una habitaci�n privada o una compartida.\n",
    "\n",
    "* **minimum_nights:**  Noches de estancia m�nima.\n",
    "\n",
    "* **number_of_reviews:**  N�mero total de reviews de la oferta.\n",
    "\n",
    "* **last_review:**  Fecha de la �ltima review hecha.\n",
    "\n",
    "* **reviews_per_month:** N�mero de reviews por mes. No siempre es entero y la mayor�a son menos de 1.\n",
    "\n",
    "* **calculated_host_listings_count:** Cuantas habitaciones tiene el host en oferta.\n",
    "\n",
    "* **availability_365:** La disponibilidad de la oferta en un a�o: m�ximo de 365 (todo el a�o en oferta)\n",
    "\n",
    "* **price:** �Nuestro objetivo!. El precio de la oferta, en dolares.\n",
    "\n"
   ]
  },
  {
   "cell_type": "markdown",
   "metadata": {},
   "source": [
    "�Es este un problema de regression o de classification? �Por que?: regresión, pues se pretende calcular el valor de una variable continua, no clasificar en categorías."
   ]
  },
  {
   "cell_type": "markdown",
   "metadata": {},
   "source": [
    "3. Antes de analizar el dataset, tenemos que transformar las fechas (la feature last_review) en algo con lo que podamos trabajar. Pandas tiene un data type espec�ficamente para esto, datetime. Transforma last_review a formato datetime."
   ]
  },
  {
   "cell_type": "code",
   "execution_count": 5,
   "metadata": {
    "pycharm": {
     "is_executing": false
    }
   },
   "outputs": [],
   "source": [
    "# S�lo con una l�nea de c�digo\n",
    "data['last_review']=pd.to_datetime(data['last_review'])\n"
   ]
  },
  {
   "cell_type": "markdown",
   "metadata": {},
   "source": [
    "4. Para analizar los datos tambi�n necesitamos saber cuanta informaci�n nos falta. Utiliza isnull() para averiguar a que feature le faltan mas datos. "
   ]
  },
  {
   "cell_type": "code",
   "execution_count": 6,
   "metadata": {
    "pycharm": {
     "is_executing": false
    }
   },
   "outputs": [
    {
     "data": {
      "text/plain": [
       "Unnamed: 0                           0\n",
       "id                                   0\n",
       "name                                 4\n",
       "host_id                              0\n",
       "host_name                           17\n",
       "neighbourhood_group                  0\n",
       "neighbourhood                        0\n",
       "latitude                             0\n",
       "longitude                            0\n",
       "room_type                            0\n",
       "minimum_nights                       0\n",
       "number_of_reviews                    0\n",
       "last_review                       6772\n",
       "reviews_per_month                 6772\n",
       "calculated_host_listings_count       0\n",
       "availability_365                     0\n",
       "price                                0\n",
       "dtype: int64"
      ]
     },
     "execution_count": 6,
     "metadata": {},
     "output_type": "execute_result"
    }
   ],
   "source": [
    "# S�lo con una l�nea de c�digo\n",
    "pd.isnull(data).sum()\n"
   ]
  },
  {
   "cell_type": "markdown",
   "metadata": {},
   "source": [
    "5. Finalmente, solo nos falta deshacernos de las features que solo sirven de identificador y no ayudan a predecir."
   ]
  },
  {
   "cell_type": "code",
   "execution_count": 7,
   "metadata": {
    "pycharm": {
     "is_executing": false
    }
   },
   "outputs": [],
   "source": [
    "# S�lo con una l�nea de c�digo\n",
    "data.drop(['Unnamed: 0', 'id'], axis=1,inplace=True)"
   ]
  },
  {
   "cell_type": "markdown",
   "metadata": {},
   "source": [
    "6. �Todo listo! Ya podemos analizar la distribuci�n de los datos con la funci�n .describe()"
   ]
  },
  {
   "cell_type": "code",
   "execution_count": 8,
   "metadata": {
    "pycharm": {
     "is_executing": false
    }
   },
   "outputs": [
    {
     "data": {
      "text/html": [
       "<div>\n",
       "<style scoped>\n",
       "    .dataframe tbody tr th:only-of-type {\n",
       "        vertical-align: middle;\n",
       "    }\n",
       "\n",
       "    .dataframe tbody tr th {\n",
       "        vertical-align: top;\n",
       "    }\n",
       "\n",
       "    .dataframe thead th {\n",
       "        text-align: right;\n",
       "    }\n",
       "</style>\n",
       "<table border=\"1\" class=\"dataframe\">\n",
       "  <thead>\n",
       "    <tr style=\"text-align: right;\">\n",
       "      <th></th>\n",
       "      <th>host_id</th>\n",
       "      <th>latitude</th>\n",
       "      <th>longitude</th>\n",
       "      <th>minimum_nights</th>\n",
       "      <th>number_of_reviews</th>\n",
       "      <th>reviews_per_month</th>\n",
       "      <th>calculated_host_listings_count</th>\n",
       "      <th>availability_365</th>\n",
       "      <th>price</th>\n",
       "    </tr>\n",
       "  </thead>\n",
       "  <tbody>\n",
       "    <tr>\n",
       "      <th>count</th>\n",
       "      <td>3.275900e+04</td>\n",
       "      <td>32759.000000</td>\n",
       "      <td>32759.000000</td>\n",
       "      <td>32759.000000</td>\n",
       "      <td>32759.000000</td>\n",
       "      <td>25987.000000</td>\n",
       "      <td>32759.000000</td>\n",
       "      <td>32759.000000</td>\n",
       "      <td>32759.000000</td>\n",
       "    </tr>\n",
       "    <tr>\n",
       "      <th>mean</th>\n",
       "      <td>6.776458e+07</td>\n",
       "      <td>40.728968</td>\n",
       "      <td>-73.952465</td>\n",
       "      <td>7.131475</td>\n",
       "      <td>23.240911</td>\n",
       "      <td>1.383150</td>\n",
       "      <td>7.223175</td>\n",
       "      <td>113.116090</td>\n",
       "      <td>154.312983</td>\n",
       "    </tr>\n",
       "    <tr>\n",
       "      <th>std</th>\n",
       "      <td>7.874515e+07</td>\n",
       "      <td>0.054479</td>\n",
       "      <td>0.045704</td>\n",
       "      <td>21.236959</td>\n",
       "      <td>44.354050</td>\n",
       "      <td>1.699714</td>\n",
       "      <td>33.275291</td>\n",
       "      <td>131.687842</td>\n",
       "      <td>256.571284</td>\n",
       "    </tr>\n",
       "    <tr>\n",
       "      <th>min</th>\n",
       "      <td>2.438000e+03</td>\n",
       "      <td>40.499790</td>\n",
       "      <td>-74.240840</td>\n",
       "      <td>1.000000</td>\n",
       "      <td>0.000000</td>\n",
       "      <td>0.010000</td>\n",
       "      <td>1.000000</td>\n",
       "      <td>0.000000</td>\n",
       "      <td>0.000000</td>\n",
       "    </tr>\n",
       "    <tr>\n",
       "      <th>25%</th>\n",
       "      <td>7.831209e+06</td>\n",
       "      <td>40.690150</td>\n",
       "      <td>-73.983130</td>\n",
       "      <td>1.000000</td>\n",
       "      <td>1.000000</td>\n",
       "      <td>0.190000</td>\n",
       "      <td>1.000000</td>\n",
       "      <td>0.000000</td>\n",
       "      <td>69.000000</td>\n",
       "    </tr>\n",
       "    <tr>\n",
       "      <th>50%</th>\n",
       "      <td>3.078984e+07</td>\n",
       "      <td>40.723180</td>\n",
       "      <td>-73.955800</td>\n",
       "      <td>3.000000</td>\n",
       "      <td>5.000000</td>\n",
       "      <td>0.730000</td>\n",
       "      <td>1.000000</td>\n",
       "      <td>45.000000</td>\n",
       "      <td>107.000000</td>\n",
       "    </tr>\n",
       "    <tr>\n",
       "      <th>75%</th>\n",
       "      <td>1.074344e+08</td>\n",
       "      <td>40.763155</td>\n",
       "      <td>-73.936540</td>\n",
       "      <td>5.000000</td>\n",
       "      <td>24.000000</td>\n",
       "      <td>2.030000</td>\n",
       "      <td>2.000000</td>\n",
       "      <td>226.000000</td>\n",
       "      <td>178.000000</td>\n",
       "    </tr>\n",
       "    <tr>\n",
       "      <th>max</th>\n",
       "      <td>2.743213e+08</td>\n",
       "      <td>40.913060</td>\n",
       "      <td>-73.712990</td>\n",
       "      <td>1250.000000</td>\n",
       "      <td>607.000000</td>\n",
       "      <td>58.500000</td>\n",
       "      <td>327.000000</td>\n",
       "      <td>365.000000</td>\n",
       "      <td>10000.000000</td>\n",
       "    </tr>\n",
       "  </tbody>\n",
       "</table>\n",
       "</div>"
      ],
      "text/plain": [
       "            host_id      latitude     longitude  minimum_nights  \\\n",
       "count  3.275900e+04  32759.000000  32759.000000    32759.000000   \n",
       "mean   6.776458e+07     40.728968    -73.952465        7.131475   \n",
       "std    7.874515e+07      0.054479      0.045704       21.236959   \n",
       "min    2.438000e+03     40.499790    -74.240840        1.000000   \n",
       "25%    7.831209e+06     40.690150    -73.983130        1.000000   \n",
       "50%    3.078984e+07     40.723180    -73.955800        3.000000   \n",
       "75%    1.074344e+08     40.763155    -73.936540        5.000000   \n",
       "max    2.743213e+08     40.913060    -73.712990     1250.000000   \n",
       "\n",
       "       number_of_reviews  reviews_per_month  calculated_host_listings_count  \\\n",
       "count       32759.000000       25987.000000                    32759.000000   \n",
       "mean           23.240911           1.383150                        7.223175   \n",
       "std            44.354050           1.699714                       33.275291   \n",
       "min             0.000000           0.010000                        1.000000   \n",
       "25%             1.000000           0.190000                        1.000000   \n",
       "50%             5.000000           0.730000                        1.000000   \n",
       "75%            24.000000           2.030000                        2.000000   \n",
       "max           607.000000          58.500000                      327.000000   \n",
       "\n",
       "       availability_365         price  \n",
       "count      32759.000000  32759.000000  \n",
       "mean         113.116090    154.312983  \n",
       "std          131.687842    256.571284  \n",
       "min            0.000000      0.000000  \n",
       "25%            0.000000     69.000000  \n",
       "50%           45.000000    107.000000  \n",
       "75%          226.000000    178.000000  \n",
       "max          365.000000  10000.000000  "
      ]
     },
     "execution_count": 8,
     "metadata": {},
     "output_type": "execute_result"
    }
   ],
   "source": [
    "# S�lo con una l�nea de c�digo\n",
    "data.describe()"
   ]
  },
  {
   "cell_type": "markdown",
   "metadata": {},
   "source": [
    "### Limpiar y normalizar la informaci�n del dataset\n",
    "![texto alternativo](https://i.imgur.com/8u4xTI7.png)\n",
    "\n",
    "Este dataset contiene informaci�n incompleta que debemos rellenar para poder usarla a la hora de predecir el precio de las ofertas.\n",
    "Tambi�n tenemos que transformar last_review si queremos incluirla en la predicci�n (no podemos utilizar una fecha como input directamente).\n",
    "\n",
    "Para esta limpieza usaremos varias funciones de Pandas. Aqu� teneis una [pista](https://new.paradigmadigital.com/wp-content/uploads/2019/02/Pandas_cheatsheet.pdf)."
   ]
  },
  {
   "cell_type": "markdown",
   "metadata": {},
   "source": [
    "7. Encuentra el n�mero de ofertas que por no tener reviews no tienen informaci�n en las columnas de last_review y reviews_per_month."
   ]
  },
  {
   "cell_type": "code",
   "execution_count": 9,
   "metadata": {
    "pycharm": {
     "is_executing": false
    }
   },
   "outputs": [
    {
     "data": {
      "text/html": [
       "<div>\n",
       "<style scoped>\n",
       "    .dataframe tbody tr th:only-of-type {\n",
       "        vertical-align: middle;\n",
       "    }\n",
       "\n",
       "    .dataframe tbody tr th {\n",
       "        vertical-align: top;\n",
       "    }\n",
       "\n",
       "    .dataframe thead th {\n",
       "        text-align: right;\n",
       "    }\n",
       "</style>\n",
       "<table border=\"1\" class=\"dataframe\">\n",
       "  <thead>\n",
       "    <tr style=\"text-align: right;\">\n",
       "      <th></th>\n",
       "      <th>name</th>\n",
       "      <th>host_id</th>\n",
       "      <th>host_name</th>\n",
       "      <th>neighbourhood_group</th>\n",
       "      <th>neighbourhood</th>\n",
       "      <th>latitude</th>\n",
       "      <th>longitude</th>\n",
       "      <th>room_type</th>\n",
       "      <th>minimum_nights</th>\n",
       "      <th>number_of_reviews</th>\n",
       "      <th>last_review</th>\n",
       "      <th>reviews_per_month</th>\n",
       "      <th>calculated_host_listings_count</th>\n",
       "      <th>availability_365</th>\n",
       "      <th>price</th>\n",
       "    </tr>\n",
       "  </thead>\n",
       "  <tbody>\n",
       "    <tr>\n",
       "      <th>8</th>\n",
       "      <td>Apartment at the St.Regis Hotel</td>\n",
       "      <td>50397134</td>\n",
       "      <td>Masaichi</td>\n",
       "      <td>Manhattan</td>\n",
       "      <td>Midtown</td>\n",
       "      <td>40.76103</td>\n",
       "      <td>-73.97512</td>\n",
       "      <td>Entire home/apt</td>\n",
       "      <td>1</td>\n",
       "      <td>0</td>\n",
       "      <td>NaT</td>\n",
       "      <td>NaN</td>\n",
       "      <td>1</td>\n",
       "      <td>0</td>\n",
       "      <td>1200</td>\n",
       "    </tr>\n",
       "    <tr>\n",
       "      <th>10</th>\n",
       "      <td>Comfortable Room in large 3 BED Apt</td>\n",
       "      <td>58104904</td>\n",
       "      <td>Michael</td>\n",
       "      <td>Brooklyn</td>\n",
       "      <td>Bushwick</td>\n",
       "      <td>40.70146</td>\n",
       "      <td>-73.91763</td>\n",
       "      <td>Private room</td>\n",
       "      <td>7</td>\n",
       "      <td>0</td>\n",
       "      <td>NaT</td>\n",
       "      <td>NaN</td>\n",
       "      <td>1</td>\n",
       "      <td>0</td>\n",
       "      <td>55</td>\n",
       "    </tr>\n",
       "    <tr>\n",
       "      <th>11</th>\n",
       "      <td>Great Location 1 BR Apt - Manhattan</td>\n",
       "      <td>52559052</td>\n",
       "      <td>Abe</td>\n",
       "      <td>Manhattan</td>\n",
       "      <td>Midtown</td>\n",
       "      <td>40.76657</td>\n",
       "      <td>-73.98207</td>\n",
       "      <td>Entire home/apt</td>\n",
       "      <td>2</td>\n",
       "      <td>0</td>\n",
       "      <td>NaT</td>\n",
       "      <td>NaN</td>\n",
       "      <td>1</td>\n",
       "      <td>0</td>\n",
       "      <td>150</td>\n",
       "    </tr>\n",
       "    <tr>\n",
       "      <th>12</th>\n",
       "      <td>Demo listing - not real</td>\n",
       "      <td>137447960</td>\n",
       "      <td>Rohit</td>\n",
       "      <td>Queens</td>\n",
       "      <td>Astoria</td>\n",
       "      <td>40.76495</td>\n",
       "      <td>-73.92529</td>\n",
       "      <td>Entire home/apt</td>\n",
       "      <td>18</td>\n",
       "      <td>0</td>\n",
       "      <td>NaT</td>\n",
       "      <td>NaN</td>\n",
       "      <td>1</td>\n",
       "      <td>178</td>\n",
       "      <td>70</td>\n",
       "    </tr>\n",
       "    <tr>\n",
       "      <th>13</th>\n",
       "      <td>Private place. Close to everything NY has to o...</td>\n",
       "      <td>248021206</td>\n",
       "      <td>Alen</td>\n",
       "      <td>Queens</td>\n",
       "      <td>Glendale</td>\n",
       "      <td>40.70710</td>\n",
       "      <td>-73.86482</td>\n",
       "      <td>Private room</td>\n",
       "      <td>1</td>\n",
       "      <td>0</td>\n",
       "      <td>NaT</td>\n",
       "      <td>NaN</td>\n",
       "      <td>1</td>\n",
       "      <td>177</td>\n",
       "      <td>50</td>\n",
       "    </tr>\n",
       "    <tr>\n",
       "      <th>14</th>\n",
       "      <td>Great access/2min U can use 5 lines(EFMR7)</td>\n",
       "      <td>200239515</td>\n",
       "      <td>Shogo</td>\n",
       "      <td>Queens</td>\n",
       "      <td>Woodside</td>\n",
       "      <td>40.74652</td>\n",
       "      <td>-73.89154</td>\n",
       "      <td>Private room</td>\n",
       "      <td>28</td>\n",
       "      <td>0</td>\n",
       "      <td>NaT</td>\n",
       "      <td>NaN</td>\n",
       "      <td>15</td>\n",
       "      <td>0</td>\n",
       "      <td>28</td>\n",
       "    </tr>\n",
       "    <tr>\n",
       "      <th>19</th>\n",
       "      <td>Floorthru Two Bed &amp; Private Yard</td>\n",
       "      <td>438545</td>\n",
       "      <td>Christie</td>\n",
       "      <td>Brooklyn</td>\n",
       "      <td>Carroll Gardens</td>\n",
       "      <td>40.68276</td>\n",
       "      <td>-74.00016</td>\n",
       "      <td>Entire home/apt</td>\n",
       "      <td>4</td>\n",
       "      <td>0</td>\n",
       "      <td>NaT</td>\n",
       "      <td>NaN</td>\n",
       "      <td>1</td>\n",
       "      <td>0</td>\n",
       "      <td>275</td>\n",
       "    </tr>\n",
       "    <tr>\n",
       "      <th>21</th>\n",
       "      <td>Central Park South Classic Junior Suite</td>\n",
       "      <td>34693688</td>\n",
       "      <td>Darwin Dion</td>\n",
       "      <td>Manhattan</td>\n",
       "      <td>Midtown</td>\n",
       "      <td>40.76411</td>\n",
       "      <td>-73.98074</td>\n",
       "      <td>Entire home/apt</td>\n",
       "      <td>3</td>\n",
       "      <td>0</td>\n",
       "      <td>NaT</td>\n",
       "      <td>NaN</td>\n",
       "      <td>1</td>\n",
       "      <td>0</td>\n",
       "      <td>400</td>\n",
       "    </tr>\n",
       "    <tr>\n",
       "      <th>33</th>\n",
       "      <td>Large bedroom with PRIVATE bathroom and KING Bed</td>\n",
       "      <td>13463652</td>\n",
       "      <td>Rueben</td>\n",
       "      <td>Brooklyn</td>\n",
       "      <td>Clinton Hill</td>\n",
       "      <td>40.68399</td>\n",
       "      <td>-73.96465</td>\n",
       "      <td>Private room</td>\n",
       "      <td>5</td>\n",
       "      <td>0</td>\n",
       "      <td>NaT</td>\n",
       "      <td>NaN</td>\n",
       "      <td>1</td>\n",
       "      <td>0</td>\n",
       "      <td>125</td>\n",
       "    </tr>\n",
       "    <tr>\n",
       "      <th>39</th>\n",
       "      <td>Entire 3 Bedroom apt next to Barclay’s center</td>\n",
       "      <td>229381517</td>\n",
       "      <td>Pavel</td>\n",
       "      <td>Brooklyn</td>\n",
       "      <td>Prospect Heights</td>\n",
       "      <td>40.68077</td>\n",
       "      <td>-73.97489</td>\n",
       "      <td>Entire home/apt</td>\n",
       "      <td>1</td>\n",
       "      <td>0</td>\n",
       "      <td>NaT</td>\n",
       "      <td>NaN</td>\n",
       "      <td>2</td>\n",
       "      <td>175</td>\n",
       "      <td>250</td>\n",
       "    </tr>\n",
       "    <tr>\n",
       "      <th>40</th>\n",
       "      <td>Awesome Room in the Heart of Bushwick!</td>\n",
       "      <td>23826651</td>\n",
       "      <td>Lorenzo</td>\n",
       "      <td>Brooklyn</td>\n",
       "      <td>Bushwick</td>\n",
       "      <td>40.70364</td>\n",
       "      <td>-73.92769</td>\n",
       "      <td>Private room</td>\n",
       "      <td>7</td>\n",
       "      <td>0</td>\n",
       "      <td>NaT</td>\n",
       "      <td>NaN</td>\n",
       "      <td>1</td>\n",
       "      <td>0</td>\n",
       "      <td>50</td>\n",
       "    </tr>\n",
       "    <tr>\n",
       "      <th>42</th>\n",
       "      <td>Williamsburg - Terrace apartment</td>\n",
       "      <td>12943509</td>\n",
       "      <td>Grace</td>\n",
       "      <td>Brooklyn</td>\n",
       "      <td>Williamsburg</td>\n",
       "      <td>40.71300</td>\n",
       "      <td>-73.94109</td>\n",
       "      <td>Private room</td>\n",
       "      <td>3</td>\n",
       "      <td>0</td>\n",
       "      <td>NaT</td>\n",
       "      <td>NaN</td>\n",
       "      <td>1</td>\n",
       "      <td>0</td>\n",
       "      <td>35</td>\n",
       "    </tr>\n",
       "    <tr>\n",
       "      <th>56</th>\n",
       "      <td>Bluebird Hell's Kitchen Studio Apartment + Spa!!!</td>\n",
       "      <td>95459395</td>\n",
       "      <td>Bluebird</td>\n",
       "      <td>Manhattan</td>\n",
       "      <td>Hell's Kitchen</td>\n",
       "      <td>40.76221</td>\n",
       "      <td>-73.99795</td>\n",
       "      <td>Entire home/apt</td>\n",
       "      <td>30</td>\n",
       "      <td>0</td>\n",
       "      <td>NaT</td>\n",
       "      <td>NaN</td>\n",
       "      <td>18</td>\n",
       "      <td>365</td>\n",
       "      <td>321</td>\n",
       "    </tr>\n",
       "    <tr>\n",
       "      <th>59</th>\n",
       "      <td>new years eve week</td>\n",
       "      <td>239770902</td>\n",
       "      <td>Chandler</td>\n",
       "      <td>Manhattan</td>\n",
       "      <td>Midtown</td>\n",
       "      <td>40.75383</td>\n",
       "      <td>-73.97207</td>\n",
       "      <td>Private room</td>\n",
       "      <td>5</td>\n",
       "      <td>0</td>\n",
       "      <td>NaT</td>\n",
       "      <td>NaN</td>\n",
       "      <td>1</td>\n",
       "      <td>353</td>\n",
       "      <td>350</td>\n",
       "    </tr>\n",
       "    <tr>\n",
       "      <th>63</th>\n",
       "      <td>Artsy and Comfy Bedroom, Living Room, Terrace</td>\n",
       "      <td>1226950</td>\n",
       "      <td>Marysia</td>\n",
       "      <td>Brooklyn</td>\n",
       "      <td>Crown Heights</td>\n",
       "      <td>40.67690</td>\n",
       "      <td>-73.95130</td>\n",
       "      <td>Private room</td>\n",
       "      <td>2</td>\n",
       "      <td>0</td>\n",
       "      <td>NaT</td>\n",
       "      <td>NaN</td>\n",
       "      <td>1</td>\n",
       "      <td>0</td>\n",
       "      <td>75</td>\n",
       "    </tr>\n",
       "    <tr>\n",
       "      <th>74</th>\n",
       "      <td>Large (clean) private bedroom in Crown Heights</td>\n",
       "      <td>54772069</td>\n",
       "      <td>Dominic</td>\n",
       "      <td>Brooklyn</td>\n",
       "      <td>Crown Heights</td>\n",
       "      <td>40.67634</td>\n",
       "      <td>-73.94133</td>\n",
       "      <td>Private room</td>\n",
       "      <td>30</td>\n",
       "      <td>0</td>\n",
       "      <td>NaT</td>\n",
       "      <td>NaN</td>\n",
       "      <td>1</td>\n",
       "      <td>365</td>\n",
       "      <td>55</td>\n",
       "    </tr>\n",
       "    <tr>\n",
       "      <th>80</th>\n",
       "      <td>Sonder | The Biltmore | Spacious 1BR + Kitchen</td>\n",
       "      <td>219517861</td>\n",
       "      <td>Sonder (NYC)</td>\n",
       "      <td>Manhattan</td>\n",
       "      <td>Theater District</td>\n",
       "      <td>40.75942</td>\n",
       "      <td>-73.98727</td>\n",
       "      <td>Entire home/apt</td>\n",
       "      <td>29</td>\n",
       "      <td>0</td>\n",
       "      <td>NaT</td>\n",
       "      <td>NaN</td>\n",
       "      <td>327</td>\n",
       "      <td>332</td>\n",
       "      <td>699</td>\n",
       "    </tr>\n",
       "    <tr>\n",
       "      <th>90</th>\n",
       "      <td>Light-filled Brooklyn duplex loft</td>\n",
       "      <td>5072735</td>\n",
       "      <td>Rory</td>\n",
       "      <td>Brooklyn</td>\n",
       "      <td>Clinton Hill</td>\n",
       "      <td>40.68540</td>\n",
       "      <td>-73.96741</td>\n",
       "      <td>Entire home/apt</td>\n",
       "      <td>7</td>\n",
       "      <td>0</td>\n",
       "      <td>NaT</td>\n",
       "      <td>NaN</td>\n",
       "      <td>1</td>\n",
       "      <td>0</td>\n",
       "      <td>150</td>\n",
       "    </tr>\n",
       "    <tr>\n",
       "      <th>99</th>\n",
       "      <td>Executive private room with full size bed-M tr...</td>\n",
       "      <td>248161322</td>\n",
       "      <td>Sergii</td>\n",
       "      <td>Brooklyn</td>\n",
       "      <td>Bushwick</td>\n",
       "      <td>40.69935</td>\n",
       "      <td>-73.93889</td>\n",
       "      <td>Private room</td>\n",
       "      <td>30</td>\n",
       "      <td>0</td>\n",
       "      <td>NaT</td>\n",
       "      <td>NaN</td>\n",
       "      <td>14</td>\n",
       "      <td>311</td>\n",
       "      <td>63</td>\n",
       "    </tr>\n",
       "    <tr>\n",
       "      <th>109</th>\n",
       "      <td>Lovely sun-filled Brownstone!</td>\n",
       "      <td>1793569</td>\n",
       "      <td>Frances</td>\n",
       "      <td>Brooklyn</td>\n",
       "      <td>Park Slope</td>\n",
       "      <td>40.68073</td>\n",
       "      <td>-73.97515</td>\n",
       "      <td>Entire home/apt</td>\n",
       "      <td>1</td>\n",
       "      <td>0</td>\n",
       "      <td>NaT</td>\n",
       "      <td>NaN</td>\n",
       "      <td>1</td>\n",
       "      <td>0</td>\n",
       "      <td>170</td>\n",
       "    </tr>\n",
       "    <tr>\n",
       "      <th>111</th>\n",
       "      <td>Cozy studio near Grand Central</td>\n",
       "      <td>8164199</td>\n",
       "      <td>An</td>\n",
       "      <td>Manhattan</td>\n",
       "      <td>Midtown</td>\n",
       "      <td>40.75102</td>\n",
       "      <td>-73.97447</td>\n",
       "      <td>Entire home/apt</td>\n",
       "      <td>1</td>\n",
       "      <td>0</td>\n",
       "      <td>NaT</td>\n",
       "      <td>NaN</td>\n",
       "      <td>1</td>\n",
       "      <td>0</td>\n",
       "      <td>180</td>\n",
       "    </tr>\n",
       "    <tr>\n",
       "      <th>115</th>\n",
       "      <td>Private Room in Lower East Side</td>\n",
       "      <td>30797242</td>\n",
       "      <td>Allison</td>\n",
       "      <td>Manhattan</td>\n",
       "      <td>Lower East Side</td>\n",
       "      <td>40.72285</td>\n",
       "      <td>-73.98895</td>\n",
       "      <td>Private room</td>\n",
       "      <td>3</td>\n",
       "      <td>0</td>\n",
       "      <td>NaT</td>\n",
       "      <td>NaN</td>\n",
       "      <td>1</td>\n",
       "      <td>21</td>\n",
       "      <td>75</td>\n",
       "    </tr>\n",
       "    <tr>\n",
       "      <th>119</th>\n",
       "      <td>UES loft near hospitals</td>\n",
       "      <td>16259898</td>\n",
       "      <td>Moni</td>\n",
       "      <td>Manhattan</td>\n",
       "      <td>Upper East Side</td>\n",
       "      <td>40.76329</td>\n",
       "      <td>-73.96235</td>\n",
       "      <td>Entire home/apt</td>\n",
       "      <td>7</td>\n",
       "      <td>0</td>\n",
       "      <td>NaT</td>\n",
       "      <td>NaN</td>\n",
       "      <td>1</td>\n",
       "      <td>11</td>\n",
       "      <td>250</td>\n",
       "    </tr>\n",
       "    <tr>\n",
       "      <th>120</th>\n",
       "      <td>studio in UES</td>\n",
       "      <td>22215460</td>\n",
       "      <td>Abc</td>\n",
       "      <td>Manhattan</td>\n",
       "      <td>Upper East Side</td>\n",
       "      <td>40.76850</td>\n",
       "      <td>-73.95698</td>\n",
       "      <td>Entire home/apt</td>\n",
       "      <td>1</td>\n",
       "      <td>0</td>\n",
       "      <td>NaT</td>\n",
       "      <td>NaN</td>\n",
       "      <td>1</td>\n",
       "      <td>363</td>\n",
       "      <td>500</td>\n",
       "    </tr>\n",
       "    <tr>\n",
       "      <th>125</th>\n",
       "      <td>Cozy studio in heart of Manhattan</td>\n",
       "      <td>52584471</td>\n",
       "      <td>Paul</td>\n",
       "      <td>Manhattan</td>\n",
       "      <td>Murray Hill</td>\n",
       "      <td>40.74666</td>\n",
       "      <td>-73.97847</td>\n",
       "      <td>Entire home/apt</td>\n",
       "      <td>1</td>\n",
       "      <td>0</td>\n",
       "      <td>NaT</td>\n",
       "      <td>NaN</td>\n",
       "      <td>1</td>\n",
       "      <td>0</td>\n",
       "      <td>135</td>\n",
       "    </tr>\n",
       "    <tr>\n",
       "      <th>133</th>\n",
       "      <td>Completely Renovated Prewar Apartment in HOT Area</td>\n",
       "      <td>10346084</td>\n",
       "      <td>Lindsay</td>\n",
       "      <td>Queens</td>\n",
       "      <td>Astoria</td>\n",
       "      <td>40.75816</td>\n",
       "      <td>-73.91945</td>\n",
       "      <td>Entire home/apt</td>\n",
       "      <td>5</td>\n",
       "      <td>0</td>\n",
       "      <td>NaT</td>\n",
       "      <td>NaN</td>\n",
       "      <td>1</td>\n",
       "      <td>0</td>\n",
       "      <td>110</td>\n",
       "    </tr>\n",
       "    <tr>\n",
       "      <th>135</th>\n",
       "      <td>Spacious Modern Brooklyn Apt!</td>\n",
       "      <td>108578737</td>\n",
       "      <td>Ellis</td>\n",
       "      <td>Brooklyn</td>\n",
       "      <td>Crown Heights</td>\n",
       "      <td>40.66943</td>\n",
       "      <td>-73.96024</td>\n",
       "      <td>Private room</td>\n",
       "      <td>5</td>\n",
       "      <td>0</td>\n",
       "      <td>NaT</td>\n",
       "      <td>NaN</td>\n",
       "      <td>1</td>\n",
       "      <td>0</td>\n",
       "      <td>50</td>\n",
       "    </tr>\n",
       "    <tr>\n",
       "      <th>145</th>\n",
       "      <td>Gorgeous, sunny and cosy Williamsburg 2 bed Apt</td>\n",
       "      <td>10860700</td>\n",
       "      <td>Sarah</td>\n",
       "      <td>Brooklyn</td>\n",
       "      <td>Williamsburg</td>\n",
       "      <td>40.71210</td>\n",
       "      <td>-73.94347</td>\n",
       "      <td>Entire home/apt</td>\n",
       "      <td>10</td>\n",
       "      <td>0</td>\n",
       "      <td>NaT</td>\n",
       "      <td>NaN</td>\n",
       "      <td>2</td>\n",
       "      <td>34</td>\n",
       "      <td>130</td>\n",
       "    </tr>\n",
       "    <tr>\n",
       "      <th>148</th>\n",
       "      <td>MAGNIFICIENT LUX. STUDIO UNOBSTRUCTED RIVER VIEW</td>\n",
       "      <td>98267290</td>\n",
       "      <td>Heather</td>\n",
       "      <td>Manhattan</td>\n",
       "      <td>Upper West Side</td>\n",
       "      <td>40.77509</td>\n",
       "      <td>-73.98255</td>\n",
       "      <td>Entire home/apt</td>\n",
       "      <td>30</td>\n",
       "      <td>0</td>\n",
       "      <td>NaT</td>\n",
       "      <td>NaN</td>\n",
       "      <td>1</td>\n",
       "      <td>185</td>\n",
       "      <td>130</td>\n",
       "    </tr>\n",
       "    <tr>\n",
       "      <th>152</th>\n",
       "      <td>Cute room right by Prospect Park</td>\n",
       "      <td>41060321</td>\n",
       "      <td>Maria</td>\n",
       "      <td>Brooklyn</td>\n",
       "      <td>Prospect-Lefferts Gardens</td>\n",
       "      <td>40.65757</td>\n",
       "      <td>-73.95015</td>\n",
       "      <td>Private room</td>\n",
       "      <td>1</td>\n",
       "      <td>0</td>\n",
       "      <td>NaT</td>\n",
       "      <td>NaN</td>\n",
       "      <td>1</td>\n",
       "      <td>0</td>\n",
       "      <td>35</td>\n",
       "    </tr>\n",
       "    <tr>\n",
       "      <th>...</th>\n",
       "      <td>...</td>\n",
       "      <td>...</td>\n",
       "      <td>...</td>\n",
       "      <td>...</td>\n",
       "      <td>...</td>\n",
       "      <td>...</td>\n",
       "      <td>...</td>\n",
       "      <td>...</td>\n",
       "      <td>...</td>\n",
       "      <td>...</td>\n",
       "      <td>...</td>\n",
       "      <td>...</td>\n",
       "      <td>...</td>\n",
       "      <td>...</td>\n",
       "      <td>...</td>\n",
       "    </tr>\n",
       "    <tr>\n",
       "      <th>32566</th>\n",
       "      <td>jungle oasis loft in red hook</td>\n",
       "      <td>8835932</td>\n",
       "      <td>Brandi</td>\n",
       "      <td>Brooklyn</td>\n",
       "      <td>Red Hook</td>\n",
       "      <td>40.67740</td>\n",
       "      <td>-74.00304</td>\n",
       "      <td>Entire home/apt</td>\n",
       "      <td>2</td>\n",
       "      <td>0</td>\n",
       "      <td>NaT</td>\n",
       "      <td>NaN</td>\n",
       "      <td>1</td>\n",
       "      <td>11</td>\n",
       "      <td>199</td>\n",
       "    </tr>\n",
       "    <tr>\n",
       "      <th>32580</th>\n",
       "      <td>Cozy room near Union Square and East Village</td>\n",
       "      <td>164228532</td>\n",
       "      <td>Vivian</td>\n",
       "      <td>Manhattan</td>\n",
       "      <td>East Village</td>\n",
       "      <td>40.73136</td>\n",
       "      <td>-73.98659</td>\n",
       "      <td>Private room</td>\n",
       "      <td>4</td>\n",
       "      <td>0</td>\n",
       "      <td>NaT</td>\n",
       "      <td>NaN</td>\n",
       "      <td>2</td>\n",
       "      <td>2</td>\n",
       "      <td>68</td>\n",
       "    </tr>\n",
       "    <tr>\n",
       "      <th>32587</th>\n",
       "      <td>Chic Private Room  |  Only 1 Stop from Manhattan!</td>\n",
       "      <td>257773717</td>\n",
       "      <td>Lydia</td>\n",
       "      <td>Brooklyn</td>\n",
       "      <td>Williamsburg</td>\n",
       "      <td>40.71041</td>\n",
       "      <td>-73.96327</td>\n",
       "      <td>Private room</td>\n",
       "      <td>30</td>\n",
       "      <td>0</td>\n",
       "      <td>NaT</td>\n",
       "      <td>NaN</td>\n",
       "      <td>5</td>\n",
       "      <td>341</td>\n",
       "      <td>58</td>\n",
       "    </tr>\n",
       "    <tr>\n",
       "      <th>32592</th>\n",
       "      <td>NaN</td>\n",
       "      <td>85288337</td>\n",
       "      <td>Jeff</td>\n",
       "      <td>Brooklyn</td>\n",
       "      <td>Bedford-Stuyvesant</td>\n",
       "      <td>40.69421</td>\n",
       "      <td>-73.93234</td>\n",
       "      <td>Private room</td>\n",
       "      <td>3</td>\n",
       "      <td>0</td>\n",
       "      <td>NaT</td>\n",
       "      <td>NaN</td>\n",
       "      <td>1</td>\n",
       "      <td>0</td>\n",
       "      <td>70</td>\n",
       "    </tr>\n",
       "    <tr>\n",
       "      <th>32602</th>\n",
       "      <td>Airy Sunlit BedStuy BnB</td>\n",
       "      <td>40069144</td>\n",
       "      <td>J.L.</td>\n",
       "      <td>Brooklyn</td>\n",
       "      <td>Bedford-Stuyvesant</td>\n",
       "      <td>40.68831</td>\n",
       "      <td>-73.94066</td>\n",
       "      <td>Private room</td>\n",
       "      <td>14</td>\n",
       "      <td>0</td>\n",
       "      <td>NaT</td>\n",
       "      <td>NaN</td>\n",
       "      <td>1</td>\n",
       "      <td>37</td>\n",
       "      <td>46</td>\n",
       "    </tr>\n",
       "    <tr>\n",
       "      <th>32615</th>\n",
       "      <td>LOCATION! Coffee and Central Park!</td>\n",
       "      <td>17428203</td>\n",
       "      <td>Christine</td>\n",
       "      <td>Manhattan</td>\n",
       "      <td>Upper East Side</td>\n",
       "      <td>40.77241</td>\n",
       "      <td>-73.94800</td>\n",
       "      <td>Entire home/apt</td>\n",
       "      <td>31</td>\n",
       "      <td>0</td>\n",
       "      <td>NaT</td>\n",
       "      <td>NaN</td>\n",
       "      <td>2</td>\n",
       "      <td>0</td>\n",
       "      <td>124</td>\n",
       "    </tr>\n",
       "    <tr>\n",
       "      <th>32618</th>\n",
       "      <td>3 Bedroom Apt in Ridgewood, 20 Min to Manhattan</td>\n",
       "      <td>273632292</td>\n",
       "      <td>Pete</td>\n",
       "      <td>Queens</td>\n",
       "      <td>Ridgewood</td>\n",
       "      <td>40.70268</td>\n",
       "      <td>-73.90353</td>\n",
       "      <td>Entire home/apt</td>\n",
       "      <td>24</td>\n",
       "      <td>0</td>\n",
       "      <td>NaT</td>\n",
       "      <td>NaN</td>\n",
       "      <td>1</td>\n",
       "      <td>183</td>\n",
       "      <td>110</td>\n",
       "    </tr>\n",
       "    <tr>\n",
       "      <th>32619</th>\n",
       "      <td>1 bedroom UWS</td>\n",
       "      <td>132194726</td>\n",
       "      <td>Carlos</td>\n",
       "      <td>Manhattan</td>\n",
       "      <td>Upper West Side</td>\n",
       "      <td>40.78841</td>\n",
       "      <td>-73.97461</td>\n",
       "      <td>Entire home/apt</td>\n",
       "      <td>5</td>\n",
       "      <td>0</td>\n",
       "      <td>NaT</td>\n",
       "      <td>NaN</td>\n",
       "      <td>1</td>\n",
       "      <td>0</td>\n",
       "      <td>200</td>\n",
       "    </tr>\n",
       "    <tr>\n",
       "      <th>32624</th>\n",
       "      <td>Charming Hell’s Kitchen Studio</td>\n",
       "      <td>46588955</td>\n",
       "      <td>Emily</td>\n",
       "      <td>Manhattan</td>\n",
       "      <td>Hell's Kitchen</td>\n",
       "      <td>40.76590</td>\n",
       "      <td>-73.98764</td>\n",
       "      <td>Entire home/apt</td>\n",
       "      <td>2</td>\n",
       "      <td>0</td>\n",
       "      <td>NaT</td>\n",
       "      <td>NaN</td>\n",
       "      <td>1</td>\n",
       "      <td>8</td>\n",
       "      <td>289</td>\n",
       "    </tr>\n",
       "    <tr>\n",
       "      <th>32625</th>\n",
       "      <td>Beautiful full-service UWS studio</td>\n",
       "      <td>3834614</td>\n",
       "      <td>Jilly</td>\n",
       "      <td>Manhattan</td>\n",
       "      <td>Upper West Side</td>\n",
       "      <td>40.79432</td>\n",
       "      <td>-73.97637</td>\n",
       "      <td>Private room</td>\n",
       "      <td>10</td>\n",
       "      <td>0</td>\n",
       "      <td>NaT</td>\n",
       "      <td>NaN</td>\n",
       "      <td>1</td>\n",
       "      <td>0</td>\n",
       "      <td>175</td>\n",
       "    </tr>\n",
       "    <tr>\n",
       "      <th>32634</th>\n",
       "      <td>Light Filled Room in EV</td>\n",
       "      <td>245637171</td>\n",
       "      <td>Min</td>\n",
       "      <td>Manhattan</td>\n",
       "      <td>East Village</td>\n",
       "      <td>40.72997</td>\n",
       "      <td>-73.98553</td>\n",
       "      <td>Private room</td>\n",
       "      <td>30</td>\n",
       "      <td>0</td>\n",
       "      <td>NaT</td>\n",
       "      <td>NaN</td>\n",
       "      <td>8</td>\n",
       "      <td>341</td>\n",
       "      <td>62</td>\n",
       "    </tr>\n",
       "    <tr>\n",
       "      <th>32654</th>\n",
       "      <td>Historic Far Rockaway Beach Bungalow</td>\n",
       "      <td>193889243</td>\n",
       "      <td>David S</td>\n",
       "      <td>Queens</td>\n",
       "      <td>Far Rockaway</td>\n",
       "      <td>40.59458</td>\n",
       "      <td>-73.75839</td>\n",
       "      <td>Entire home/apt</td>\n",
       "      <td>3</td>\n",
       "      <td>0</td>\n",
       "      <td>NaT</td>\n",
       "      <td>NaN</td>\n",
       "      <td>1</td>\n",
       "      <td>89</td>\n",
       "      <td>275</td>\n",
       "    </tr>\n",
       "    <tr>\n",
       "      <th>32655</th>\n",
       "      <td>Sunny &amp; Big Room w/private toilet in Bushwick</td>\n",
       "      <td>192181166</td>\n",
       "      <td>Elisa</td>\n",
       "      <td>Brooklyn</td>\n",
       "      <td>Williamsburg</td>\n",
       "      <td>40.70891</td>\n",
       "      <td>-73.94268</td>\n",
       "      <td>Private room</td>\n",
       "      <td>3</td>\n",
       "      <td>0</td>\n",
       "      <td>NaT</td>\n",
       "      <td>NaN</td>\n",
       "      <td>2</td>\n",
       "      <td>0</td>\n",
       "      <td>72</td>\n",
       "    </tr>\n",
       "    <tr>\n",
       "      <th>32658</th>\n",
       "      <td>Sunset Park Upgraded Apartment</td>\n",
       "      <td>268119922</td>\n",
       "      <td>Francisco</td>\n",
       "      <td>Brooklyn</td>\n",
       "      <td>Sunset Park</td>\n",
       "      <td>40.64534</td>\n",
       "      <td>-74.01992</td>\n",
       "      <td>Entire home/apt</td>\n",
       "      <td>2</td>\n",
       "      <td>0</td>\n",
       "      <td>NaT</td>\n",
       "      <td>NaN</td>\n",
       "      <td>1</td>\n",
       "      <td>322</td>\n",
       "      <td>200</td>\n",
       "    </tr>\n",
       "    <tr>\n",
       "      <th>32681</th>\n",
       "      <td>Cozy Upper East Side two bedroom</td>\n",
       "      <td>1372837</td>\n",
       "      <td>Manoj</td>\n",
       "      <td>Manhattan</td>\n",
       "      <td>Upper East Side</td>\n",
       "      <td>40.77595</td>\n",
       "      <td>-73.94969</td>\n",
       "      <td>Entire home/apt</td>\n",
       "      <td>4</td>\n",
       "      <td>0</td>\n",
       "      <td>NaT</td>\n",
       "      <td>NaN</td>\n",
       "      <td>1</td>\n",
       "      <td>0</td>\n",
       "      <td>295</td>\n",
       "    </tr>\n",
       "    <tr>\n",
       "      <th>32694</th>\n",
       "      <td>Chill Bushwick Suite</td>\n",
       "      <td>3040551</td>\n",
       "      <td>Olu Bliss</td>\n",
       "      <td>Brooklyn</td>\n",
       "      <td>Bushwick</td>\n",
       "      <td>40.69709</td>\n",
       "      <td>-73.91435</td>\n",
       "      <td>Private room</td>\n",
       "      <td>3</td>\n",
       "      <td>0</td>\n",
       "      <td>NaT</td>\n",
       "      <td>NaN</td>\n",
       "      <td>1</td>\n",
       "      <td>0</td>\n",
       "      <td>80</td>\n",
       "    </tr>\n",
       "    <tr>\n",
       "      <th>32704</th>\n",
       "      <td>Midtown Manhattan Private Alcove Suite</td>\n",
       "      <td>261632622</td>\n",
       "      <td>Royalton</td>\n",
       "      <td>Manhattan</td>\n",
       "      <td>Theater District</td>\n",
       "      <td>40.75481</td>\n",
       "      <td>-73.98560</td>\n",
       "      <td>Private room</td>\n",
       "      <td>1</td>\n",
       "      <td>0</td>\n",
       "      <td>NaT</td>\n",
       "      <td>NaN</td>\n",
       "      <td>9</td>\n",
       "      <td>317</td>\n",
       "      <td>100</td>\n",
       "    </tr>\n",
       "    <tr>\n",
       "      <th>32706</th>\n",
       "      <td>TRANQUIL HAVEN -8MINS TO JFK/LIRR/AIRTRAIN.</td>\n",
       "      <td>178272943</td>\n",
       "      <td>Sharon</td>\n",
       "      <td>Queens</td>\n",
       "      <td>Jamaica</td>\n",
       "      <td>40.67100</td>\n",
       "      <td>-73.77911</td>\n",
       "      <td>Entire home/apt</td>\n",
       "      <td>1</td>\n",
       "      <td>0</td>\n",
       "      <td>NaT</td>\n",
       "      <td>NaN</td>\n",
       "      <td>4</td>\n",
       "      <td>69</td>\n",
       "      <td>250</td>\n",
       "    </tr>\n",
       "    <tr>\n",
       "      <th>32707</th>\n",
       "      <td>Parks, Marina and New York skyline in one place.</td>\n",
       "      <td>10447807</td>\n",
       "      <td>Ari</td>\n",
       "      <td>Manhattan</td>\n",
       "      <td>Battery Park City</td>\n",
       "      <td>40.71588</td>\n",
       "      <td>-74.01691</td>\n",
       "      <td>Entire home/apt</td>\n",
       "      <td>4</td>\n",
       "      <td>0</td>\n",
       "      <td>NaT</td>\n",
       "      <td>NaN</td>\n",
       "      <td>1</td>\n",
       "      <td>0</td>\n",
       "      <td>250</td>\n",
       "    </tr>\n",
       "    <tr>\n",
       "      <th>32713</th>\n",
       "      <td>Aloft Manhattan Downtown - Financial District</td>\n",
       "      <td>5144567</td>\n",
       "      <td>Yun</td>\n",
       "      <td>Manhattan</td>\n",
       "      <td>Financial District</td>\n",
       "      <td>40.70969</td>\n",
       "      <td>-74.00575</td>\n",
       "      <td>Private room</td>\n",
       "      <td>7</td>\n",
       "      <td>0</td>\n",
       "      <td>NaT</td>\n",
       "      <td>NaN</td>\n",
       "      <td>13</td>\n",
       "      <td>365</td>\n",
       "      <td>169</td>\n",
       "    </tr>\n",
       "    <tr>\n",
       "      <th>32717</th>\n",
       "      <td>Luxurious 1 Bedroom in Times Square</td>\n",
       "      <td>3191545</td>\n",
       "      <td>Kyle</td>\n",
       "      <td>Manhattan</td>\n",
       "      <td>Hell's Kitchen</td>\n",
       "      <td>40.75930</td>\n",
       "      <td>-73.99229</td>\n",
       "      <td>Entire home/apt</td>\n",
       "      <td>30</td>\n",
       "      <td>0</td>\n",
       "      <td>NaT</td>\n",
       "      <td>NaN</td>\n",
       "      <td>23</td>\n",
       "      <td>364</td>\n",
       "      <td>195</td>\n",
       "    </tr>\n",
       "    <tr>\n",
       "      <th>32720</th>\n",
       "      <td>Spacious Midtown East 1BR w/ Balcony, Gym, Doo...</td>\n",
       "      <td>107434423</td>\n",
       "      <td>Blueground</td>\n",
       "      <td>Manhattan</td>\n",
       "      <td>Murray Hill</td>\n",
       "      <td>40.74930</td>\n",
       "      <td>-73.97376</td>\n",
       "      <td>Entire home/apt</td>\n",
       "      <td>30</td>\n",
       "      <td>0</td>\n",
       "      <td>NaT</td>\n",
       "      <td>NaN</td>\n",
       "      <td>232</td>\n",
       "      <td>83</td>\n",
       "      <td>321</td>\n",
       "    </tr>\n",
       "    <tr>\n",
       "      <th>32728</th>\n",
       "      <td>Cozy East Village home away from home...</td>\n",
       "      <td>22073094</td>\n",
       "      <td>Page</td>\n",
       "      <td>Manhattan</td>\n",
       "      <td>East Village</td>\n",
       "      <td>40.72782</td>\n",
       "      <td>-73.98620</td>\n",
       "      <td>Private room</td>\n",
       "      <td>1</td>\n",
       "      <td>0</td>\n",
       "      <td>NaT</td>\n",
       "      <td>NaN</td>\n",
       "      <td>1</td>\n",
       "      <td>0</td>\n",
       "      <td>110</td>\n",
       "    </tr>\n",
       "    <tr>\n",
       "      <th>32735</th>\n",
       "      <td>Modern 2 bedroom apartment in Brooklyn</td>\n",
       "      <td>31755712</td>\n",
       "      <td>Ludmila</td>\n",
       "      <td>Brooklyn</td>\n",
       "      <td>Clinton Hill</td>\n",
       "      <td>40.68597</td>\n",
       "      <td>-73.95983</td>\n",
       "      <td>Entire home/apt</td>\n",
       "      <td>25</td>\n",
       "      <td>0</td>\n",
       "      <td>NaT</td>\n",
       "      <td>NaN</td>\n",
       "      <td>1</td>\n",
       "      <td>172</td>\n",
       "      <td>125</td>\n",
       "    </tr>\n",
       "    <tr>\n",
       "      <th>32746</th>\n",
       "      <td>Luxury 1 Bedroom -Midtown/Times Square/Central...</td>\n",
       "      <td>37412692</td>\n",
       "      <td>Kim</td>\n",
       "      <td>Manhattan</td>\n",
       "      <td>Midtown</td>\n",
       "      <td>40.76467</td>\n",
       "      <td>-73.98277</td>\n",
       "      <td>Entire home/apt</td>\n",
       "      <td>30</td>\n",
       "      <td>0</td>\n",
       "      <td>NaT</td>\n",
       "      <td>NaN</td>\n",
       "      <td>4</td>\n",
       "      <td>362</td>\n",
       "      <td>115</td>\n",
       "    </tr>\n",
       "    <tr>\n",
       "      <th>32748</th>\n",
       "      <td>1 BR Large Luxury Furnished Ap. Near Central Park</td>\n",
       "      <td>15145088</td>\n",
       "      <td>Izi</td>\n",
       "      <td>Manhattan</td>\n",
       "      <td>Upper West Side</td>\n",
       "      <td>40.78537</td>\n",
       "      <td>-73.97456</td>\n",
       "      <td>Entire home/apt</td>\n",
       "      <td>30</td>\n",
       "      <td>0</td>\n",
       "      <td>NaT</td>\n",
       "      <td>NaN</td>\n",
       "      <td>8</td>\n",
       "      <td>157</td>\n",
       "      <td>190</td>\n",
       "    </tr>\n",
       "    <tr>\n",
       "      <th>32749</th>\n",
       "      <td>NYC private room super clean and cozy</td>\n",
       "      <td>83132880</td>\n",
       "      <td>Alyandry</td>\n",
       "      <td>Queens</td>\n",
       "      <td>Maspeth</td>\n",
       "      <td>40.73953</td>\n",
       "      <td>-73.89499</td>\n",
       "      <td>Private room</td>\n",
       "      <td>1</td>\n",
       "      <td>0</td>\n",
       "      <td>NaT</td>\n",
       "      <td>NaN</td>\n",
       "      <td>4</td>\n",
       "      <td>304</td>\n",
       "      <td>56</td>\n",
       "    </tr>\n",
       "    <tr>\n",
       "      <th>32751</th>\n",
       "      <td>Apartment New York \\nHell’s Kitchens</td>\n",
       "      <td>35303743</td>\n",
       "      <td>Patricia</td>\n",
       "      <td>Manhattan</td>\n",
       "      <td>Upper West Side</td>\n",
       "      <td>40.76835</td>\n",
       "      <td>-73.98367</td>\n",
       "      <td>Private room</td>\n",
       "      <td>30</td>\n",
       "      <td>0</td>\n",
       "      <td>NaT</td>\n",
       "      <td>NaN</td>\n",
       "      <td>1</td>\n",
       "      <td>97</td>\n",
       "      <td>6500</td>\n",
       "    </tr>\n",
       "    <tr>\n",
       "      <th>32752</th>\n",
       "      <td>Luxurious 1BR Apt in Midtown West</td>\n",
       "      <td>30283594</td>\n",
       "      <td>Kara</td>\n",
       "      <td>Manhattan</td>\n",
       "      <td>Hell's Kitchen</td>\n",
       "      <td>40.76103</td>\n",
       "      <td>-73.99745</td>\n",
       "      <td>Entire home/apt</td>\n",
       "      <td>30</td>\n",
       "      <td>0</td>\n",
       "      <td>NaT</td>\n",
       "      <td>NaN</td>\n",
       "      <td>121</td>\n",
       "      <td>365</td>\n",
       "      <td>239</td>\n",
       "    </tr>\n",
       "    <tr>\n",
       "      <th>32754</th>\n",
       "      <td>Gran Fondo Cyclist Haven</td>\n",
       "      <td>20261309</td>\n",
       "      <td>Sarah</td>\n",
       "      <td>Manhattan</td>\n",
       "      <td>Washington Heights</td>\n",
       "      <td>40.84650</td>\n",
       "      <td>-73.94319</td>\n",
       "      <td>Shared room</td>\n",
       "      <td>1</td>\n",
       "      <td>0</td>\n",
       "      <td>NaT</td>\n",
       "      <td>NaN</td>\n",
       "      <td>1</td>\n",
       "      <td>0</td>\n",
       "      <td>60</td>\n",
       "    </tr>\n",
       "  </tbody>\n",
       "</table>\n",
       "<p>6772 rows × 15 columns</p>\n",
       "</div>"
      ],
      "text/plain": [
       "                                                    name    host_id  \\\n",
       "8                        Apartment at the St.Regis Hotel   50397134   \n",
       "10                   Comfortable Room in large 3 BED Apt   58104904   \n",
       "11                   Great Location 1 BR Apt - Manhattan   52559052   \n",
       "12                               Demo listing - not real  137447960   \n",
       "13     Private place. Close to everything NY has to o...  248021206   \n",
       "14            Great access/2min U can use 5 lines(EFMR7)  200239515   \n",
       "19                      Floorthru Two Bed & Private Yard     438545   \n",
       "21               Central Park South Classic Junior Suite   34693688   \n",
       "33      Large bedroom with PRIVATE bathroom and KING Bed   13463652   \n",
       "39         Entire 3 Bedroom apt next to Barclay’s center  229381517   \n",
       "40                Awesome Room in the Heart of Bushwick!   23826651   \n",
       "42                      Williamsburg - Terrace apartment   12943509   \n",
       "56     Bluebird Hell's Kitchen Studio Apartment + Spa!!!   95459395   \n",
       "59                                    new years eve week  239770902   \n",
       "63         Artsy and Comfy Bedroom, Living Room, Terrace    1226950   \n",
       "74        Large (clean) private bedroom in Crown Heights   54772069   \n",
       "80        Sonder | The Biltmore | Spacious 1BR + Kitchen  219517861   \n",
       "90                     Light-filled Brooklyn duplex loft    5072735   \n",
       "99     Executive private room with full size bed-M tr...  248161322   \n",
       "109                        Lovely sun-filled Brownstone!    1793569   \n",
       "111                       Cozy studio near Grand Central    8164199   \n",
       "115                      Private Room in Lower East Side   30797242   \n",
       "119                              UES loft near hospitals   16259898   \n",
       "120                                        studio in UES   22215460   \n",
       "125                    Cozy studio in heart of Manhattan   52584471   \n",
       "133    Completely Renovated Prewar Apartment in HOT Area   10346084   \n",
       "135                        Spacious Modern Brooklyn Apt!  108578737   \n",
       "145      Gorgeous, sunny and cosy Williamsburg 2 bed Apt   10860700   \n",
       "148     MAGNIFICIENT LUX. STUDIO UNOBSTRUCTED RIVER VIEW   98267290   \n",
       "152                     Cute room right by Prospect Park   41060321   \n",
       "...                                                  ...        ...   \n",
       "32566                      jungle oasis loft in red hook    8835932   \n",
       "32580       Cozy room near Union Square and East Village  164228532   \n",
       "32587  Chic Private Room  |  Only 1 Stop from Manhattan!  257773717   \n",
       "32592                                                NaN   85288337   \n",
       "32602                            Airy Sunlit BedStuy BnB   40069144   \n",
       "32615                 LOCATION! Coffee and Central Park!   17428203   \n",
       "32618    3 Bedroom Apt in Ridgewood, 20 Min to Manhattan  273632292   \n",
       "32619                                      1 bedroom UWS  132194726   \n",
       "32624                     Charming Hell’s Kitchen Studio   46588955   \n",
       "32625                 Beautiful full-service UWS studio     3834614   \n",
       "32634                            Light Filled Room in EV  245637171   \n",
       "32654               Historic Far Rockaway Beach Bungalow  193889243   \n",
       "32655      Sunny & Big Room w/private toilet in Bushwick  192181166   \n",
       "32658                     Sunset Park Upgraded Apartment  268119922   \n",
       "32681                   Cozy Upper East Side two bedroom    1372837   \n",
       "32694                               Chill Bushwick Suite    3040551   \n",
       "32704             Midtown Manhattan Private Alcove Suite  261632622   \n",
       "32706        TRANQUIL HAVEN -8MINS TO JFK/LIRR/AIRTRAIN.  178272943   \n",
       "32707   Parks, Marina and New York skyline in one place.   10447807   \n",
       "32713      Aloft Manhattan Downtown - Financial District    5144567   \n",
       "32717                Luxurious 1 Bedroom in Times Square    3191545   \n",
       "32720  Spacious Midtown East 1BR w/ Balcony, Gym, Doo...  107434423   \n",
       "32728           Cozy East Village home away from home...   22073094   \n",
       "32735             Modern 2 bedroom apartment in Brooklyn   31755712   \n",
       "32746  Luxury 1 Bedroom -Midtown/Times Square/Central...   37412692   \n",
       "32748  1 BR Large Luxury Furnished Ap. Near Central Park   15145088   \n",
       "32749              NYC private room super clean and cozy   83132880   \n",
       "32751               Apartment New York \\nHell’s Kitchens   35303743   \n",
       "32752                  Luxurious 1BR Apt in Midtown West   30283594   \n",
       "32754                           Gran Fondo Cyclist Haven   20261309   \n",
       "\n",
       "          host_name neighbourhood_group              neighbourhood  latitude  \\\n",
       "8          Masaichi           Manhattan                    Midtown  40.76103   \n",
       "10          Michael            Brooklyn                   Bushwick  40.70146   \n",
       "11              Abe           Manhattan                    Midtown  40.76657   \n",
       "12            Rohit              Queens                    Astoria  40.76495   \n",
       "13             Alen              Queens                   Glendale  40.70710   \n",
       "14            Shogo              Queens                   Woodside  40.74652   \n",
       "19         Christie            Brooklyn            Carroll Gardens  40.68276   \n",
       "21      Darwin Dion           Manhattan                    Midtown  40.76411   \n",
       "33           Rueben            Brooklyn               Clinton Hill  40.68399   \n",
       "39            Pavel            Brooklyn           Prospect Heights  40.68077   \n",
       "40          Lorenzo            Brooklyn                   Bushwick  40.70364   \n",
       "42            Grace            Brooklyn               Williamsburg  40.71300   \n",
       "56         Bluebird           Manhattan             Hell's Kitchen  40.76221   \n",
       "59         Chandler           Manhattan                    Midtown  40.75383   \n",
       "63          Marysia            Brooklyn              Crown Heights  40.67690   \n",
       "74          Dominic            Brooklyn              Crown Heights  40.67634   \n",
       "80     Sonder (NYC)           Manhattan           Theater District  40.75942   \n",
       "90             Rory            Brooklyn               Clinton Hill  40.68540   \n",
       "99           Sergii            Brooklyn                   Bushwick  40.69935   \n",
       "109         Frances            Brooklyn                 Park Slope  40.68073   \n",
       "111              An           Manhattan                    Midtown  40.75102   \n",
       "115         Allison           Manhattan            Lower East Side  40.72285   \n",
       "119            Moni           Manhattan            Upper East Side  40.76329   \n",
       "120             Abc           Manhattan            Upper East Side  40.76850   \n",
       "125            Paul           Manhattan                Murray Hill  40.74666   \n",
       "133         Lindsay              Queens                    Astoria  40.75816   \n",
       "135           Ellis            Brooklyn              Crown Heights  40.66943   \n",
       "145           Sarah            Brooklyn               Williamsburg  40.71210   \n",
       "148         Heather           Manhattan            Upper West Side  40.77509   \n",
       "152           Maria            Brooklyn  Prospect-Lefferts Gardens  40.65757   \n",
       "...             ...                 ...                        ...       ...   \n",
       "32566        Brandi            Brooklyn                   Red Hook  40.67740   \n",
       "32580        Vivian           Manhattan               East Village  40.73136   \n",
       "32587         Lydia            Brooklyn               Williamsburg  40.71041   \n",
       "32592          Jeff            Brooklyn         Bedford-Stuyvesant  40.69421   \n",
       "32602          J.L.            Brooklyn         Bedford-Stuyvesant  40.68831   \n",
       "32615     Christine           Manhattan            Upper East Side  40.77241   \n",
       "32618          Pete              Queens                  Ridgewood  40.70268   \n",
       "32619        Carlos           Manhattan            Upper West Side  40.78841   \n",
       "32624         Emily           Manhattan             Hell's Kitchen  40.76590   \n",
       "32625         Jilly           Manhattan            Upper West Side  40.79432   \n",
       "32634           Min           Manhattan               East Village  40.72997   \n",
       "32654       David S              Queens               Far Rockaway  40.59458   \n",
       "32655         Elisa            Brooklyn               Williamsburg  40.70891   \n",
       "32658     Francisco            Brooklyn                Sunset Park  40.64534   \n",
       "32681         Manoj           Manhattan            Upper East Side  40.77595   \n",
       "32694     Olu Bliss            Brooklyn                   Bushwick  40.69709   \n",
       "32704      Royalton           Manhattan           Theater District  40.75481   \n",
       "32706        Sharon              Queens                    Jamaica  40.67100   \n",
       "32707           Ari           Manhattan          Battery Park City  40.71588   \n",
       "32713           Yun           Manhattan         Financial District  40.70969   \n",
       "32717          Kyle           Manhattan             Hell's Kitchen  40.75930   \n",
       "32720    Blueground           Manhattan                Murray Hill  40.74930   \n",
       "32728          Page           Manhattan               East Village  40.72782   \n",
       "32735       Ludmila            Brooklyn               Clinton Hill  40.68597   \n",
       "32746           Kim           Manhattan                    Midtown  40.76467   \n",
       "32748           Izi           Manhattan            Upper West Side  40.78537   \n",
       "32749      Alyandry              Queens                    Maspeth  40.73953   \n",
       "32751      Patricia           Manhattan            Upper West Side  40.76835   \n",
       "32752          Kara           Manhattan             Hell's Kitchen  40.76103   \n",
       "32754         Sarah           Manhattan         Washington Heights  40.84650   \n",
       "\n",
       "       longitude        room_type  minimum_nights  number_of_reviews  \\\n",
       "8      -73.97512  Entire home/apt               1                  0   \n",
       "10     -73.91763     Private room               7                  0   \n",
       "11     -73.98207  Entire home/apt               2                  0   \n",
       "12     -73.92529  Entire home/apt              18                  0   \n",
       "13     -73.86482     Private room               1                  0   \n",
       "14     -73.89154     Private room              28                  0   \n",
       "19     -74.00016  Entire home/apt               4                  0   \n",
       "21     -73.98074  Entire home/apt               3                  0   \n",
       "33     -73.96465     Private room               5                  0   \n",
       "39     -73.97489  Entire home/apt               1                  0   \n",
       "40     -73.92769     Private room               7                  0   \n",
       "42     -73.94109     Private room               3                  0   \n",
       "56     -73.99795  Entire home/apt              30                  0   \n",
       "59     -73.97207     Private room               5                  0   \n",
       "63     -73.95130     Private room               2                  0   \n",
       "74     -73.94133     Private room              30                  0   \n",
       "80     -73.98727  Entire home/apt              29                  0   \n",
       "90     -73.96741  Entire home/apt               7                  0   \n",
       "99     -73.93889     Private room              30                  0   \n",
       "109    -73.97515  Entire home/apt               1                  0   \n",
       "111    -73.97447  Entire home/apt               1                  0   \n",
       "115    -73.98895     Private room               3                  0   \n",
       "119    -73.96235  Entire home/apt               7                  0   \n",
       "120    -73.95698  Entire home/apt               1                  0   \n",
       "125    -73.97847  Entire home/apt               1                  0   \n",
       "133    -73.91945  Entire home/apt               5                  0   \n",
       "135    -73.96024     Private room               5                  0   \n",
       "145    -73.94347  Entire home/apt              10                  0   \n",
       "148    -73.98255  Entire home/apt              30                  0   \n",
       "152    -73.95015     Private room               1                  0   \n",
       "...          ...              ...             ...                ...   \n",
       "32566  -74.00304  Entire home/apt               2                  0   \n",
       "32580  -73.98659     Private room               4                  0   \n",
       "32587  -73.96327     Private room              30                  0   \n",
       "32592  -73.93234     Private room               3                  0   \n",
       "32602  -73.94066     Private room              14                  0   \n",
       "32615  -73.94800  Entire home/apt              31                  0   \n",
       "32618  -73.90353  Entire home/apt              24                  0   \n",
       "32619  -73.97461  Entire home/apt               5                  0   \n",
       "32624  -73.98764  Entire home/apt               2                  0   \n",
       "32625  -73.97637     Private room              10                  0   \n",
       "32634  -73.98553     Private room              30                  0   \n",
       "32654  -73.75839  Entire home/apt               3                  0   \n",
       "32655  -73.94268     Private room               3                  0   \n",
       "32658  -74.01992  Entire home/apt               2                  0   \n",
       "32681  -73.94969  Entire home/apt               4                  0   \n",
       "32694  -73.91435     Private room               3                  0   \n",
       "32704  -73.98560     Private room               1                  0   \n",
       "32706  -73.77911  Entire home/apt               1                  0   \n",
       "32707  -74.01691  Entire home/apt               4                  0   \n",
       "32713  -74.00575     Private room               7                  0   \n",
       "32717  -73.99229  Entire home/apt              30                  0   \n",
       "32720  -73.97376  Entire home/apt              30                  0   \n",
       "32728  -73.98620     Private room               1                  0   \n",
       "32735  -73.95983  Entire home/apt              25                  0   \n",
       "32746  -73.98277  Entire home/apt              30                  0   \n",
       "32748  -73.97456  Entire home/apt              30                  0   \n",
       "32749  -73.89499     Private room               1                  0   \n",
       "32751  -73.98367     Private room              30                  0   \n",
       "32752  -73.99745  Entire home/apt              30                  0   \n",
       "32754  -73.94319      Shared room               1                  0   \n",
       "\n",
       "      last_review  reviews_per_month  calculated_host_listings_count  \\\n",
       "8             NaT                NaN                               1   \n",
       "10            NaT                NaN                               1   \n",
       "11            NaT                NaN                               1   \n",
       "12            NaT                NaN                               1   \n",
       "13            NaT                NaN                               1   \n",
       "14            NaT                NaN                              15   \n",
       "19            NaT                NaN                               1   \n",
       "21            NaT                NaN                               1   \n",
       "33            NaT                NaN                               1   \n",
       "39            NaT                NaN                               2   \n",
       "40            NaT                NaN                               1   \n",
       "42            NaT                NaN                               1   \n",
       "56            NaT                NaN                              18   \n",
       "59            NaT                NaN                               1   \n",
       "63            NaT                NaN                               1   \n",
       "74            NaT                NaN                               1   \n",
       "80            NaT                NaN                             327   \n",
       "90            NaT                NaN                               1   \n",
       "99            NaT                NaN                              14   \n",
       "109           NaT                NaN                               1   \n",
       "111           NaT                NaN                               1   \n",
       "115           NaT                NaN                               1   \n",
       "119           NaT                NaN                               1   \n",
       "120           NaT                NaN                               1   \n",
       "125           NaT                NaN                               1   \n",
       "133           NaT                NaN                               1   \n",
       "135           NaT                NaN                               1   \n",
       "145           NaT                NaN                               2   \n",
       "148           NaT                NaN                               1   \n",
       "152           NaT                NaN                               1   \n",
       "...           ...                ...                             ...   \n",
       "32566         NaT                NaN                               1   \n",
       "32580         NaT                NaN                               2   \n",
       "32587         NaT                NaN                               5   \n",
       "32592         NaT                NaN                               1   \n",
       "32602         NaT                NaN                               1   \n",
       "32615         NaT                NaN                               2   \n",
       "32618         NaT                NaN                               1   \n",
       "32619         NaT                NaN                               1   \n",
       "32624         NaT                NaN                               1   \n",
       "32625         NaT                NaN                               1   \n",
       "32634         NaT                NaN                               8   \n",
       "32654         NaT                NaN                               1   \n",
       "32655         NaT                NaN                               2   \n",
       "32658         NaT                NaN                               1   \n",
       "32681         NaT                NaN                               1   \n",
       "32694         NaT                NaN                               1   \n",
       "32704         NaT                NaN                               9   \n",
       "32706         NaT                NaN                               4   \n",
       "32707         NaT                NaN                               1   \n",
       "32713         NaT                NaN                              13   \n",
       "32717         NaT                NaN                              23   \n",
       "32720         NaT                NaN                             232   \n",
       "32728         NaT                NaN                               1   \n",
       "32735         NaT                NaN                               1   \n",
       "32746         NaT                NaN                               4   \n",
       "32748         NaT                NaN                               8   \n",
       "32749         NaT                NaN                               4   \n",
       "32751         NaT                NaN                               1   \n",
       "32752         NaT                NaN                             121   \n",
       "32754         NaT                NaN                               1   \n",
       "\n",
       "       availability_365  price  \n",
       "8                     0   1200  \n",
       "10                    0     55  \n",
       "11                    0    150  \n",
       "12                  178     70  \n",
       "13                  177     50  \n",
       "14                    0     28  \n",
       "19                    0    275  \n",
       "21                    0    400  \n",
       "33                    0    125  \n",
       "39                  175    250  \n",
       "40                    0     50  \n",
       "42                    0     35  \n",
       "56                  365    321  \n",
       "59                  353    350  \n",
       "63                    0     75  \n",
       "74                  365     55  \n",
       "80                  332    699  \n",
       "90                    0    150  \n",
       "99                  311     63  \n",
       "109                   0    170  \n",
       "111                   0    180  \n",
       "115                  21     75  \n",
       "119                  11    250  \n",
       "120                 363    500  \n",
       "125                   0    135  \n",
       "133                   0    110  \n",
       "135                   0     50  \n",
       "145                  34    130  \n",
       "148                 185    130  \n",
       "152                   0     35  \n",
       "...                 ...    ...  \n",
       "32566                11    199  \n",
       "32580                 2     68  \n",
       "32587               341     58  \n",
       "32592                 0     70  \n",
       "32602                37     46  \n",
       "32615                 0    124  \n",
       "32618               183    110  \n",
       "32619                 0    200  \n",
       "32624                 8    289  \n",
       "32625                 0    175  \n",
       "32634               341     62  \n",
       "32654                89    275  \n",
       "32655                 0     72  \n",
       "32658               322    200  \n",
       "32681                 0    295  \n",
       "32694                 0     80  \n",
       "32704               317    100  \n",
       "32706                69    250  \n",
       "32707                 0    250  \n",
       "32713               365    169  \n",
       "32717               364    195  \n",
       "32720                83    321  \n",
       "32728                 0    110  \n",
       "32735               172    125  \n",
       "32746               362    115  \n",
       "32748               157    190  \n",
       "32749               304     56  \n",
       "32751                97   6500  \n",
       "32752               365    239  \n",
       "32754                 0     60  \n",
       "\n",
       "[6772 rows x 15 columns]"
      ]
     },
     "execution_count": 9,
     "metadata": {},
     "output_type": "execute_result"
    }
   ],
   "source": [
    "# S�lo con una l�nea de c�digo\n",
    "data[data['last_review'].isnull()]"
   ]
  },
  {
   "cell_type": "markdown",
   "metadata": {},
   "source": [
    "8. Tenemos que completar esta informaci�n si no queremos eliminar el resto del ejemplo. Rellena todos los NaNs de las reviews_per_month con 0 (Completaremos la columna de last_review despu�s)."
   ]
  },
  {
   "cell_type": "code",
   "execution_count": 10,
   "metadata": {
    "pycharm": {
     "is_executing": false
    }
   },
   "outputs": [],
   "source": [
    "# S�lo con una l�nea de c�digo \n",
    "data['reviews_per_month'].fillna(0, inplace=True)\n"
   ]
  },
  {
   "cell_type": "markdown",
   "metadata": {},
   "source": [
    "9. Vamos a transformar la variable last_review. Es una fecha, lo cual nos hace dificil trabajar con ella. Vamos primero a completar los ejemplos que no tienen una �ltima fecha. Reemplaza estos NaNs con la primera review hist�rica del dataset."
   ]
  },
  {
   "cell_type": "code",
   "execution_count": 11,
   "metadata": {
    "pycharm": {
     "is_executing": false
    }
   },
   "outputs": [],
   "source": [
    "# Dos lineas de c�digo \n",
    "data['last_review'].fillna(data['last_review'].min(), inplace=True)\n"
   ]
  },
  {
   "cell_type": "markdown",
   "metadata": {},
   "source": [
    "10. Ahora que no tenemos valores vacios podemos cambiar la variable last_review a algo mas util. Buscamos que valores mas peque�os correspondan a reviews antiguas o que no hayan tenido ninguna, mientras que valores mas grandes correspondan a reviews mas recientes. \n",
    "\n",
    "Podemos utilizar la funci�n toordinal() para hayar el n�mero de dias que han transcurrido desde el dia 1 del a�o 1, pero esos siguen siendo n�meros demasiado grandes que no siguen la distribuci�n que buscamos.\n",
    "\n",
    "Consigue que last_reviews pase a representar la cantidad de dias que han transcurrido desde que se hizo la primera review hist�rica. "
   ]
  },
  {
   "cell_type": "code",
   "execution_count": 12,
   "metadata": {
    "pycharm": {
     "is_executing": false
    }
   },
   "outputs": [
    {
     "data": {
      "text/plain": [
       "0        737247\n",
       "1        737229\n",
       "2        737219\n",
       "3        737228\n",
       "4        737232\n",
       "5        737240\n",
       "6        737239\n",
       "7        737237\n",
       "8        734252\n",
       "9        737219\n",
       "10       734252\n",
       "11       734252\n",
       "12       734252\n",
       "13       734252\n",
       "14       734252\n",
       "15       736926\n",
       "16       737233\n",
       "17       737210\n",
       "18       737066\n",
       "19       734252\n",
       "20       736905\n",
       "21       734252\n",
       "22       737225\n",
       "23       737215\n",
       "24       737241\n",
       "25       737219\n",
       "26       737058\n",
       "27       737188\n",
       "28       737246\n",
       "29       737236\n",
       "          ...  \n",
       "32729    735796\n",
       "32730    737199\n",
       "32731    737191\n",
       "32732    737225\n",
       "32733    737241\n",
       "32734    737231\n",
       "32735    734252\n",
       "32736    737219\n",
       "32737    736792\n",
       "32738    737209\n",
       "32739    737231\n",
       "32740    737241\n",
       "32741    737240\n",
       "32742    737205\n",
       "32743    736906\n",
       "32744    736208\n",
       "32745    737226\n",
       "32746    734252\n",
       "32747    736129\n",
       "32748    734252\n",
       "32749    734252\n",
       "32750    737222\n",
       "32751    734252\n",
       "32752    734252\n",
       "32753    737245\n",
       "32754    734252\n",
       "32755    737240\n",
       "32756    737161\n",
       "32757    737219\n",
       "32758    736134\n",
       "Name: last_review, Length: 32759, dtype: int64"
      ]
     },
     "execution_count": 12,
     "metadata": {},
     "output_type": "execute_result"
    }
   ],
   "source": [
    "# Solo una l�nea de c�digo\n",
    "data['last_review'].apply(lambda x: x.toordinal())"
   ]
  },
  {
   "cell_type": "markdown",
   "metadata": {},
   "source": [
    "11. Para visualizar la distribuci�n de las fechas, genera una gr�fica que muestre la variable last_reviews."
   ]
  },
  {
   "cell_type": "code",
   "execution_count": 13,
   "metadata": {
    "pycharm": {
     "is_executing": false
    }
   },
   "outputs": [
    {
     "data": {
      "text/plain": [
       "<matplotlib.axes._subplots.AxesSubplot at 0x1a1e35aba8>"
      ]
     },
     "execution_count": 13,
     "metadata": {},
     "output_type": "execute_result"
    },
    {
     "data": {
      "image/png": "[encoded data removed]",
      "text/plain": [
       "<Figure size 432x288 with 1 Axes>"
      ]
     },
     "metadata": {
      "needs_background": "light"
     },
     "output_type": "display_data"
    }
   ],
   "source": [
    "# Solo una l�nea de c�digo\n",
    "data['last_review'].hist()\n"
   ]
  },
  {
   "cell_type": "markdown",
   "metadata": {},
   "source": [
    "Parece que hay dos grupos muy distinguidos. �A que se debe esta distribuci�n?:a todas las fechas nulas que hemos ajustado a la fecha más antigua"
   ]
  },
  {
   "cell_type": "markdown",
   "metadata": {},
   "source": [
    "#### Estudio de la variable a predecir y eliminaci�n de ruido"
   ]
  },
  {
   "cell_type": "markdown",
   "metadata": {},
   "source": [
    "12. A la hora de predecir el precio, es mucho mas favorable si primero transformamos y analizamos la variable que buscamos para hacerla mas facil de predecir.\n",
    "\n",
    "Primero, vamos a ver como el precio de las ofertas est� distribuido. Genera una gr�fica que muestre el precio de las ofertas. Aqu� tienes una [Pista](https://seaborn.pydata.org/generated/seaborn.distplot.html)."
   ]
  },
  {
   "cell_type": "code",
   "execution_count": 14,
   "metadata": {
    "pycharm": {
     "is_executing": false
    }
   },
   "outputs": [
    {
     "data": {
      "text/plain": [
       "<matplotlib.axes._subplots.AxesSubplot at 0x1a1c1c11d0>"
      ]
     },
     "execution_count": 14,
     "metadata": {},
     "output_type": "execute_result"
    },
    {
     "data": {
      "image/png": "[encoded data removed]",
      "text/plain": [
       "<Figure size 432x288 with 1 Axes>"
      ]
     },
     "metadata": {
      "needs_background": "light"
     },
     "output_type": "display_data"
    }
   ],
   "source": [
    "# Solo una l�nea de c�digo.\n",
    "sns.distplot(data['price'])"
   ]
  },
  {
   "cell_type": "markdown",
   "metadata": {},
   "source": [
    "Tenemos una variable que sigue una distribuci�n log-normal. Podemos transformarla en una distribuci�n normal aplicando log1p(), una funci�n que responde a la siguiente ecuaci�n:\n",
    "\n",
    "$ y = log(x+1) $\n",
    "\n",
    "Esto hace que el precio sea mas facil de predecir, al tener una distribuci�n normal."
   ]
  },
  {
   "cell_type": "markdown",
   "metadata": {},
   "source": [
    "13. Vamos a visualizar esta transformaci�n. Genera otra gr�fica de price tras aplicar la funci�n log1p()."
   ]
  },
  {
   "cell_type": "code",
   "execution_count": 15,
   "metadata": {
    "pycharm": {
     "is_executing": false
    },
    "scrolled": true
   },
   "outputs": [
    {
     "data": {
      "text/plain": [
       "<matplotlib.axes._subplots.AxesSubplot at 0x1a1c05d7b8>"
      ]
     },
     "execution_count": 15,
     "metadata": {},
     "output_type": "execute_result"
    },
    {
     "data": {
      "image/png": "[encoded data removed]",
      "text/plain": [
       "<Figure size 432x288 with 1 Axes>"
      ]
     },
     "metadata": {
      "needs_background": "light"
     },
     "output_type": "display_data"
    }
   ],
   "source": [
    "#Solo una l�nea de c�digo\n",
    "sns.distplot(np.log1p(data['price']))"
   ]
  },
  {
   "cell_type": "markdown",
   "metadata": {},
   "source": [
    "Ahora tenemos una distribuci�n mucho mas apropiada para hacer predicciones. Sin embargo, todav�a quedan muchos outliers que a�aden ruido a la muestra."
   ]
  },
  {
   "cell_type": "markdown",
   "metadata": {},
   "source": [
    "14. �Por encima y debajo de qu� valores esta presente este ruido?. Elimina del dataframe aquellos valores que no entren en la distribuci�n normal."
   ]
  },
  {
   "cell_type": "code",
   "execution_count": 16,
   "metadata": {
    "pycharm": {
     "is_executing": false
    }
   },
   "outputs": [],
   "source": [
    "#Dos lineas de c�digo\n",
    "q_low = data[\"price\"].quantile(0.01)\n",
    "q_hi  = data[\"price\"].quantile(0.99)\n",
    "\n",
    "data_filtered = data[(data[\"price\"] < q_hi) & (data[\"price\"] > q_low)]\n"
   ]
  },
  {
   "cell_type": "markdown",
   "metadata": {},
   "source": [
    "14. Ahora, vuelve a generar la gr�fica de precio y log1p del precio (usa el mismo c�digo que antes, o ponlo en un [subplot](https://matplotlib.org/api/_as_gen/matplotlib.pyplot.subplots.html))."
   ]
  },
  {
   "cell_type": "code",
   "execution_count": 17,
   "metadata": {
    "pycharm": {
     "is_executing": false
    }
   },
   "outputs": [
    {
     "data": {
      "text/plain": [
       "<matplotlib.axes._subplots.AxesSubplot at 0x1a1c051710>"
      ]
     },
     "execution_count": 17,
     "metadata": {},
     "output_type": "execute_result"
    },
    {
     "data": {
      "image/png": "[encoded data removed]",
      "text/plain": [
       "<Figure size 504x504 with 2 Axes>"
      ]
     },
     "metadata": {
      "needs_background": "light"
     },
     "output_type": "display_data"
    }
   ],
   "source": [
    "#Cuatro lineas de c�digo\n",
    "f, axes = plt.subplots(2, figsize=(7, 7), sharex=True)\n",
    "sns.distplot(data_filtered['price'],ax=axes[0])\n",
    "sns.distplot(np.log1p(data_filtered['price']),ax=axes[1])"
   ]
  },
  {
   "cell_type": "markdown",
   "metadata": {},
   "source": [
    "15. Finalmente, tenemos una variable de salida normalizada y sin ruido que mejorar� nuestras predicciones. Cambia la variable price por el log1p de price.\n"
   ]
  },
  {
   "cell_type": "code",
   "execution_count": 18,
   "metadata": {
    "pycharm": {
     "is_executing": false
    }
   },
   "outputs": [],
   "source": [
    "#Solo una l�nea de c�digo\n",
    "data['price']=np.log1p(data_filtered['price'])"
   ]
  },
  {
   "cell_type": "markdown",
   "metadata": {},
   "source": [
    "#### Exploraci�n de variables\n"
   ]
  },
  {
   "cell_type": "markdown",
   "metadata": {},
   "source": [
    "Vamos a explorar un poco mas el resto de variables que pueden afectar al precio de una oferta. "
   ]
  },
  {
   "cell_type": "markdown",
   "metadata": {},
   "source": [
    "16. Empecemos por crear un histograma de las distintas zonas de la ciudad y la cantidad de ofertas en cada una de ellas (a lo mejor necesitas ampliar el gr�fico)"
   ]
  },
  {
   "cell_type": "code",
   "execution_count": 19,
   "metadata": {
    "pycharm": {
     "is_executing": false
    }
   },
   "outputs": [
    {
     "data": {
      "text/plain": [
       "<matplotlib.axes._subplots.AxesSubplot at 0x1a1c33eeb8>"
      ]
     },
     "execution_count": 19,
     "metadata": {},
     "output_type": "execute_result"
    },
    {
     "data": {
      "image/png": "[encoded data removed]",
      "text/plain": [
       "<Figure size 432x288 with 1 Axes>"
      ]
     },
     "metadata": {
      "needs_background": "light"
     },
     "output_type": "display_data"
    }
   ],
   "source": [
    "#Tres lineas de c�digo\n",
    "plt.figure()\n",
    "data.groupby('neighbourhood_group')['name'].count().plot(kind='bar')\n"
   ]
  },
  {
   "cell_type": "markdown",
   "metadata": {},
   "source": [
    "17. Ahora crea un mapa de los apartamentos ofertados con la latitud y longitud (puntos extra si los coloreas por zonas o barrios). Lo mejor es hacerlo en un subplot y as� puedes controlar el tama�o del mapa."
   ]
  },
  {
   "cell_type": "code",
   "execution_count": 20,
   "metadata": {
    "pycharm": {
     "is_executing": false
    }
   },
   "outputs": [
    {
     "data": {
      "text/plain": [
       "<matplotlib.axes._subplots.AxesSubplot at 0x1a1c60d208>"
      ]
     },
     "execution_count": 20,
     "metadata": {},
     "output_type": "execute_result"
    },
    {
     "data": {
      "image/png": "[encoded data removed]",
      "text/plain": [
       "<Figure size 864x576 with 2 Axes>"
      ]
     },
     "metadata": {
      "needs_background": "light"
     },
     "output_type": "display_data"
    }
   ],
   "source": [
    "#Dos lineas de c�digo\n",
    "data.plot(kind=\"scatter\", x=\"longitude\", y=\"latitude\", alpha=0.4, s=data[\"price\"]/100, \n",
    "             label=\"Price Map\", c=\"price\", figsize=(12,8),\n",
    "             cmap=plt.get_cmap(\"jet\"), colorbar=True)"
   ]
  },
  {
   "cell_type": "markdown",
   "metadata": {},
   "source": [
    "18. Vamos ahora a generar otro histograma, esta vez con el tipo de habitaci�n ofertado (Tambi�n es buena idea ajustar el tama�o de la gr�fica)."
   ]
  },
  {
   "cell_type": "code",
   "execution_count": 21,
   "metadata": {
    "pycharm": {
     "is_executing": false
    }
   },
   "outputs": [
    {
     "data": {
      "text/plain": [
       "<matplotlib.axes._subplots.AxesSubplot at 0x1a1cc141d0>"
      ]
     },
     "execution_count": 21,
     "metadata": {},
     "output_type": "execute_result"
    },
    {
     "data": {
      "image/png": "[encoded data removed]",
      "text/plain": [
       "<Figure size 432x288 with 1 Axes>"
      ]
     },
     "metadata": {
      "needs_background": "light"
     },
     "output_type": "display_data"
    }
   ],
   "source": [
    "#Tres lineas de c�digo\n",
    "plt.figure()\n",
    "data.groupby('room_type')['name'].count().plot(kind='bar')"
   ]
  },
  {
   "cell_type": "markdown",
   "metadata": {},
   "source": [
    "#### Transformaci�n de variables"
   ]
  },
  {
   "cell_type": "markdown",
   "metadata": {},
   "source": [
    "Podemos aplicar el mismo proceso que le aplicamos a la variable price a nuestras variables de entrada y as� conseguir una distribuci�n mas c�moda para los m�todos de busqueda.\n",
    "\n",
    "19. Aplica la transformaci�n log1p() a minimum_nights, generando las gr�ficas antes y despues y comp�ralas. "
   ]
  },
  {
   "cell_type": "code",
   "execution_count": 22,
   "metadata": {
    "pycharm": {
     "is_executing": false
    }
   },
   "outputs": [
    {
     "data": {
      "text/plain": [
       "<matplotlib.axes._subplots.AxesSubplot at 0x1a1cc14668>"
      ]
     },
     "execution_count": 22,
     "metadata": {},
     "output_type": "execute_result"
    },
    {
     "data": {
      "image/png": "[encoded data removed]",
      "text/plain": [
       "<Figure size 432x288 with 1 Axes>"
      ]
     },
     "metadata": {
      "needs_background": "light"
     },
     "output_type": "display_data"
    }
   ],
   "source": [
    "#Tres lineas de c�digo\n",
    "#sns.distplot(data['minimum_nights'])\n",
    "sns.distplot(np.log1p(data['minimum_nights']))"
   ]
  },
  {
   "cell_type": "markdown",
   "metadata": {},
   "source": [
    "20. Finalmente, guarda minimum_nights como log1p de minimum_nights"
   ]
  },
  {
   "cell_type": "code",
   "execution_count": 23,
   "metadata": {
    "pycharm": {
     "is_executing": false
    }
   },
   "outputs": [],
   "source": [
    "#Solo una l�nea de c�digo.\n",
    "data['price']=np.log1p(data['price'])"
   ]
  },
  {
   "cell_type": "markdown",
   "metadata": {},
   "source": [
    "21. Repite el proceso, esta vez con reviews_per_month. �Es relevante la transformaci�n?"
   ]
  },
  {
   "cell_type": "code",
   "execution_count": 24,
   "metadata": {
    "pycharm": {
     "is_executing": false
    }
   },
   "outputs": [
    {
     "data": {
      "image/png": "[encoded data removed]",
      "text/plain": [
       "<Figure size 432x288 with 1 Axes>"
      ]
     },
     "metadata": {
      "needs_background": "light"
     },
     "output_type": "display_data"
    }
   ],
   "source": [
    "#Tres lineas de c�digo.\n",
    "#sns.distplot(data['minimum_nights'])\n",
    "sns.distplot(np.log1p(data['minimum_nights']))\n",
    "data['minimum_nights']=np.log1p(data['minimum_nights'])"
   ]
  },
  {
   "cell_type": "markdown",
   "metadata": {},
   "source": [
    "#### Estudio de la disponibilidad en n�mero de dias (0,365)"
   ]
  },
  {
   "cell_type": "markdown",
   "metadata": {},
   "source": [
    "22. Vamos a empezar representando la disponibilidad en un distplot(). Como conocemos los limites de esta variable, lo mejor es limitar el intervalo de la gr�fica y hacerla mas grande.\n"
   ]
  },
  {
   "cell_type": "code",
   "execution_count": 25,
   "metadata": {
    "pycharm": {
     "is_executing": false
    }
   },
   "outputs": [
    {
     "data": {
      "text/plain": [
       "(0, 365)"
      ]
     },
     "execution_count": 25,
     "metadata": {},
     "output_type": "execute_result"
    },
    {
     "data": {
      "image/png": "[encoded data removed]",
      "text/plain": [
       "<Figure size 432x288 with 1 Axes>"
      ]
     },
     "metadata": {
      "needs_background": "light"
     },
     "output_type": "display_data"
    }
   ],
   "source": [
    "#Cuatro lineas de c�digo.\n",
    "sns.distplot(data['availability_365'])\n",
    "plt.xlim(0, 365)\n"
   ]
  },
  {
   "cell_type": "markdown",
   "metadata": {},
   "source": [
    "#### A�adir variables artificiales"
   ]
  },
  {
   "cell_type": "markdown",
   "metadata": {},
   "source": [
    "Se ha visto en el scatterplot anterior que parece haber dos grupos, uno disponible la mayor parte del a�o y otro solo unos pocos dias.\n",
    "\n",
    "Tambi�n se intuye que aquellos sitios que no tengan reviews... Como que no dan mucha confi no? ;)"
   ]
  },
  {
   "cell_type": "markdown",
   "metadata": {},
   "source": [
    "23. A�ade tres categorias que midan si el apartamento est� disponible todo el a�o, si su disponibilidad es muy baja (menor de 12 dias al a�o), y si no tiene reviews."
   ]
  },
  {
   "cell_type": "code",
   "execution_count": 26,
   "metadata": {
    "pycharm": {
     "is_executing": false
    }
   },
   "outputs": [],
   "source": [
    "#Tres lineas de c�digo\n",
    "data['low_availability']=np.where(data['availability_365']<12, 1, 0)\n",
    "data['all_year_availability']=np.where(data['availability_365']==365, 1, 0)\n",
    "data['no_reviews']=np.where(data['number_of_reviews']==0, 1, 0)\n",
    "\n",
    "\n",
    "\n"
   ]
  },
  {
   "cell_type": "markdown",
   "metadata": {},
   "source": [
    "24. Vamos a generar un heatmap que muestre la relaci�n entre todas las variables de entrada y price. Utiliza corr() y la funci�n heatmap() de seaborn."
   ]
  },
  {
   "cell_type": "code",
   "execution_count": 27,
   "metadata": {
    "pycharm": {
     "is_executing": false
    }
   },
   "outputs": [
    {
     "data": {
      "text/plain": [
       "<matplotlib.axes._subplots.AxesSubplot at 0x1a1d04cf28>"
      ]
     },
     "execution_count": 27,
     "metadata": {},
     "output_type": "execute_result"
    },
    {
     "data": {
      "image/png": "[encoded data removed]",
      "text/plain": [
       "<Figure size 864x720 with 2 Axes>"
      ]
     },
     "metadata": {
      "needs_background": "light"
     },
     "output_type": "display_data"
    }
   ],
   "source": [
    "#Tres lineas de c�digo\n",
    "plt.figure(figsize=(12,10))\n",
    "cor=data.corr()\n",
    "sns.heatmap(cor,annot=True, cmap=plt.cm.Reds)"
   ]
  },
  {
   "cell_type": "markdown",
   "metadata": {},
   "source": [
    "#### Pasar variables categ�ricas a one_hot\n"
   ]
  },
  {
   "cell_type": "markdown",
   "metadata": {},
   "source": [
    "25. Para hacer las features categ�ricas mas f�ciles de interpretar por el modelo, vamos a transformarlas en un OneHotEncoding. Utiliza la funci�n get_dummies() de pandas (te deber�an de quedar 241 columnas)"
   ]
  },
  {
   "cell_type": "code",
   "execution_count": 28,
   "metadata": {
    "pycharm": {
     "is_executing": false
    }
   },
   "outputs": [
    {
     "name": "stdout",
     "output_type": "stream",
     "text": [
      "(32759, 240)\n"
     ]
    }
   ],
   "source": [
    "#Dos lineas de c�digo\n",
    "df=pd.get_dummies(data, columns=['neighbourhood','neighbourhood_group','room_type'])\n",
    "print (df.shape)"
   ]
  },
  {
   "cell_type": "markdown",
   "metadata": {},
   "source": [
    "# Modelos, modelos, modelos"
   ]
  },
  {
   "cell_type": "markdown",
   "metadata": {},
   "source": [
    "Hecha toda la exploraci�n, an�lisis y limpieza de datos, pasamos a la parte divertida: �Los modelos!\n",
    "    \n",
    "Empezamos importando todas las clases que vamos a necesitar para encontrar un buen modelo predictivo:"
   ]
  },
  {
   "cell_type": "code",
   "execution_count": 29,
   "metadata": {
    "pycharm": {
     "is_executing": false
    }
   },
   "outputs": [],
   "source": [
    "from sklearn.model_selection import train_test_split,cross_val_score,  GridSearchCV, KFold, StratifiedKFold, RandomizedSearchCV\n",
    "from sklearn.ensemble import RandomForestRegressor"
   ]
  },
  {
   "cell_type": "markdown",
   "metadata": {},
   "source": [
    "26. Divide el dataset en X_train, X_test, y_train y y_test utilizando train_test_split(). No te olvides de no incluir price en el training set."
   ]
  },
  {
   "cell_type": "code",
   "execution_count": 30,
   "metadata": {
    "pycharm": {
     "is_executing": false
    }
   },
   "outputs": [
    {
     "data": {
      "text/html": [
       "<div>\n",
       "<style scoped>\n",
       "    .dataframe tbody tr th:only-of-type {\n",
       "        vertical-align: middle;\n",
       "    }\n",
       "\n",
       "    .dataframe tbody tr th {\n",
       "        vertical-align: top;\n",
       "    }\n",
       "\n",
       "    .dataframe thead th {\n",
       "        text-align: right;\n",
       "    }\n",
       "</style>\n",
       "<table border=\"1\" class=\"dataframe\">\n",
       "  <thead>\n",
       "    <tr style=\"text-align: right;\">\n",
       "      <th></th>\n",
       "      <th>host_id</th>\n",
       "      <th>latitude</th>\n",
       "      <th>longitude</th>\n",
       "      <th>minimum_nights</th>\n",
       "      <th>number_of_reviews</th>\n",
       "      <th>reviews_per_month</th>\n",
       "      <th>calculated_host_listings_count</th>\n",
       "      <th>availability_365</th>\n",
       "      <th>low_availability</th>\n",
       "      <th>all_year_availability</th>\n",
       "      <th>...</th>\n",
       "      <th>neighbourhood_Woodlawn</th>\n",
       "      <th>neighbourhood_Woodside</th>\n",
       "      <th>neighbourhood_group_Bronx</th>\n",
       "      <th>neighbourhood_group_Brooklyn</th>\n",
       "      <th>neighbourhood_group_Manhattan</th>\n",
       "      <th>neighbourhood_group_Queens</th>\n",
       "      <th>neighbourhood_group_Staten Island</th>\n",
       "      <th>room_type_Entire home/apt</th>\n",
       "      <th>room_type_Private room</th>\n",
       "      <th>room_type_Shared room</th>\n",
       "    </tr>\n",
       "  </thead>\n",
       "  <tbody>\n",
       "    <tr>\n",
       "      <th>2981</th>\n",
       "      <td>249146659</td>\n",
       "      <td>40.70204</td>\n",
       "      <td>-73.93027</td>\n",
       "      <td>1.791759</td>\n",
       "      <td>1</td>\n",
       "      <td>0.36</td>\n",
       "      <td>1</td>\n",
       "      <td>364</td>\n",
       "      <td>0</td>\n",
       "      <td>0</td>\n",
       "      <td>...</td>\n",
       "      <td>0</td>\n",
       "      <td>0</td>\n",
       "      <td>0</td>\n",
       "      <td>1</td>\n",
       "      <td>0</td>\n",
       "      <td>0</td>\n",
       "      <td>0</td>\n",
       "      <td>0</td>\n",
       "      <td>1</td>\n",
       "      <td>0</td>\n",
       "    </tr>\n",
       "    <tr>\n",
       "      <th>18082</th>\n",
       "      <td>15377463</td>\n",
       "      <td>40.68525</td>\n",
       "      <td>-73.93159</td>\n",
       "      <td>1.098612</td>\n",
       "      <td>0</td>\n",
       "      <td>0.00</td>\n",
       "      <td>1</td>\n",
       "      <td>0</td>\n",
       "      <td>1</td>\n",
       "      <td>0</td>\n",
       "      <td>...</td>\n",
       "      <td>0</td>\n",
       "      <td>0</td>\n",
       "      <td>0</td>\n",
       "      <td>1</td>\n",
       "      <td>0</td>\n",
       "      <td>0</td>\n",
       "      <td>0</td>\n",
       "      <td>0</td>\n",
       "      <td>1</td>\n",
       "      <td>0</td>\n",
       "    </tr>\n",
       "    <tr>\n",
       "      <th>18075</th>\n",
       "      <td>5225104</td>\n",
       "      <td>40.68016</td>\n",
       "      <td>-73.91054</td>\n",
       "      <td>1.386294</td>\n",
       "      <td>19</td>\n",
       "      <td>1.23</td>\n",
       "      <td>1</td>\n",
       "      <td>28</td>\n",
       "      <td>0</td>\n",
       "      <td>0</td>\n",
       "      <td>...</td>\n",
       "      <td>0</td>\n",
       "      <td>0</td>\n",
       "      <td>0</td>\n",
       "      <td>1</td>\n",
       "      <td>0</td>\n",
       "      <td>0</td>\n",
       "      <td>0</td>\n",
       "      <td>1</td>\n",
       "      <td>0</td>\n",
       "      <td>0</td>\n",
       "    </tr>\n",
       "    <tr>\n",
       "      <th>15847</th>\n",
       "      <td>6980995</td>\n",
       "      <td>40.71312</td>\n",
       "      <td>-73.99669</td>\n",
       "      <td>0.693147</td>\n",
       "      <td>5</td>\n",
       "      <td>0.12</td>\n",
       "      <td>5</td>\n",
       "      <td>0</td>\n",
       "      <td>1</td>\n",
       "      <td>0</td>\n",
       "      <td>...</td>\n",
       "      <td>0</td>\n",
       "      <td>0</td>\n",
       "      <td>0</td>\n",
       "      <td>0</td>\n",
       "      <td>1</td>\n",
       "      <td>0</td>\n",
       "      <td>0</td>\n",
       "      <td>0</td>\n",
       "      <td>1</td>\n",
       "      <td>0</td>\n",
       "    </tr>\n",
       "    <tr>\n",
       "      <th>10782</th>\n",
       "      <td>31155262</td>\n",
       "      <td>40.71165</td>\n",
       "      <td>-73.94898</td>\n",
       "      <td>4.043051</td>\n",
       "      <td>0</td>\n",
       "      <td>0.00</td>\n",
       "      <td>1</td>\n",
       "      <td>0</td>\n",
       "      <td>1</td>\n",
       "      <td>0</td>\n",
       "      <td>...</td>\n",
       "      <td>0</td>\n",
       "      <td>0</td>\n",
       "      <td>0</td>\n",
       "      <td>1</td>\n",
       "      <td>0</td>\n",
       "      <td>0</td>\n",
       "      <td>0</td>\n",
       "      <td>0</td>\n",
       "      <td>1</td>\n",
       "      <td>0</td>\n",
       "    </tr>\n",
       "  </tbody>\n",
       "</table>\n",
       "<p>5 rows × 236 columns</p>\n",
       "</div>"
      ],
      "text/plain": [
       "         host_id  latitude  longitude  minimum_nights  number_of_reviews  \\\n",
       "2981   249146659  40.70204  -73.93027        1.791759                  1   \n",
       "18082   15377463  40.68525  -73.93159        1.098612                  0   \n",
       "18075    5225104  40.68016  -73.91054        1.386294                 19   \n",
       "15847    6980995  40.71312  -73.99669        0.693147                  5   \n",
       "10782   31155262  40.71165  -73.94898        4.043051                  0   \n",
       "\n",
       "       reviews_per_month  calculated_host_listings_count  availability_365  \\\n",
       "2981                0.36                               1               364   \n",
       "18082               0.00                               1                 0   \n",
       "18075               1.23                               1                28   \n",
       "15847               0.12                               5                 0   \n",
       "10782               0.00                               1                 0   \n",
       "\n",
       "       low_availability  all_year_availability  ...  neighbourhood_Woodlawn  \\\n",
       "2981                  0                      0  ...                       0   \n",
       "18082                 1                      0  ...                       0   \n",
       "18075                 0                      0  ...                       0   \n",
       "15847                 1                      0  ...                       0   \n",
       "10782                 1                      0  ...                       0   \n",
       "\n",
       "       neighbourhood_Woodside  neighbourhood_group_Bronx  \\\n",
       "2981                        0                          0   \n",
       "18082                       0                          0   \n",
       "18075                       0                          0   \n",
       "15847                       0                          0   \n",
       "10782                       0                          0   \n",
       "\n",
       "       neighbourhood_group_Brooklyn  neighbourhood_group_Manhattan  \\\n",
       "2981                              1                              0   \n",
       "18082                             1                              0   \n",
       "18075                             1                              0   \n",
       "15847                             0                              1   \n",
       "10782                             1                              0   \n",
       "\n",
       "       neighbourhood_group_Queens  neighbourhood_group_Staten Island  \\\n",
       "2981                            0                                  0   \n",
       "18082                           0                                  0   \n",
       "18075                           0                                  0   \n",
       "15847                           0                                  0   \n",
       "10782                           0                                  0   \n",
       "\n",
       "       room_type_Entire home/apt  room_type_Private room  \\\n",
       "2981                           0                       1   \n",
       "18082                          0                       1   \n",
       "18075                          1                       0   \n",
       "15847                          0                       1   \n",
       "10782                          0                       1   \n",
       "\n",
       "       room_type_Shared room  \n",
       "2981                       0  \n",
       "18082                      0  \n",
       "18075                      0  \n",
       "15847                      0  \n",
       "10782                      0  \n",
       "\n",
       "[5 rows x 236 columns]"
      ]
     },
     "execution_count": 30,
     "metadata": {},
     "output_type": "execute_result"
    }
   ],
   "source": [
    "#Tres lineas de c�digo\n",
    "df.dropna(inplace=True)\n",
    "y=df.price\n",
    "x=df.drop(['name','price','host_name','last_review'],axis=1)\n",
    "x_train,x_test,y_train,y_test=train_test_split(x,y,test_size=0.2)\n",
    "x_train.head()"
   ]
  },
  {
   "cell_type": "markdown",
   "metadata": {},
   "source": [
    "27. Vamos a utilizar cross_validation para entrenar nuesto modelo, utilizando Kfold para hayar la score. Implementa un Kfold que realize 5 splits y calcula el error medio y la desviaci�n de un RandomForestRegressor sin cambiar sus par�metros (todav�a). [Pista](https://scikit-learn.org/stable/modules/generated/sklearn.model_selection.KFold.html)."
   ]
  },
  {
   "cell_type": "code",
   "execution_count": 31,
   "metadata": {
    "pycharm": {
     "is_executing": false
    }
   },
   "outputs": [
    {
     "name": "stdout",
     "output_type": "stream",
     "text": [
      "[-0.00041797 -0.00054248 -0.00042021 -0.00051491 -0.00047617]\n"
     ]
    }
   ],
   "source": [
    "#Tres lineas de c�digo\n",
    "rf = RandomForestRegressor(random_state=False, verbose=False)\n",
    "rf.fit(x_train, y_train);\n",
    "y_test=rf.predict(x_test)\n",
    "scores = cross_val_score(rf, x_test, y_test, cv=5, scoring='neg_mean_squared_error')\n",
    "print(scores)"
   ]
  },
  {
   "cell_type": "markdown",
   "metadata": {},
   "source": [
    "28. Al utilizar un RandomForestRegressor, �que hiperpar�metros estabamos utilizando?. Lista todos los par�metros que utiliza este modelo (utiliza la funci�n get_params() y la librer�a pprint)"
   ]
  },
  {
   "cell_type": "code",
   "execution_count": 32,
   "metadata": {
    "pycharm": {
     "is_executing": false
    }
   },
   "outputs": [
    {
     "name": "stdout",
     "output_type": "stream",
     "text": [
      "{'bootstrap': True,\n",
      " 'ccp_alpha': 0.0,\n",
      " 'criterion': 'mse',\n",
      " 'max_depth': None,\n",
      " 'max_features': 'auto',\n",
      " 'max_leaf_nodes': None,\n",
      " 'max_samples': None,\n",
      " 'min_impurity_decrease': 0.0,\n",
      " 'min_impurity_split': None,\n",
      " 'min_samples_leaf': 1,\n",
      " 'min_samples_split': 2,\n",
      " 'min_weight_fraction_leaf': 0.0,\n",
      " 'n_estimators': 100,\n",
      " 'n_jobs': None,\n",
      " 'oob_score': False,\n",
      " 'random_state': False,\n",
      " 'verbose': False,\n",
      " 'warm_start': False}\n"
     ]
    }
   ],
   "source": [
    "from pprint import pprint\n",
    "#Dos lineas de c�digo\n",
    "params=rf.get_params()\n",
    "pprint(params)"
   ]
  },
  {
   "cell_type": "markdown",
   "metadata": {},
   "source": [
    "Podemos ajustar todos estos pa�metros para mejorar la exactitud de nuestro modelo. Una forma de encontrar qu� combinaci�n funciona mejor es utilizar un GridSearchCV, que prueba modelos con muchas combinaciones distintas y calcula su score para encontrar el mejor modelo a fuerza bruta. Para esto, hay que pasar una lista de valores para cada par�metro, y GridSearchCV probar� con todos. [Mas informaci�n](https://scikit-learn.org/stable/modules/generated/sklearn.model_selection.GridSearchCV.html)."
   ]
  },
  {
   "cell_type": "markdown",
   "metadata": {},
   "source": [
    "29. Delimita que valores quieres que cada par�metro tenga, y incluye cada una de estas listas en un diccionario para poder ejecutar el GridSearchCV. Ten en cuenta los valores posibles para cada uno de los par�metros."
   ]
  },
  {
   "cell_type": "code",
   "execution_count": 33,
   "metadata": {
    "pycharm": {
     "is_executing": false
    }
   },
   "outputs": [
    {
     "name": "stdout",
     "output_type": "stream",
     "text": [
      "{'bootstrap': [True, False],\n",
      " 'max_depth': [10, 20, 30, 40, 50, 60, 70, 80, 90, 100, 110, None],\n",
      " 'max_features': ['auto', 'sqrt'],\n",
      " 'min_samples_leaf': [1, 2, 4],\n",
      " 'min_samples_split': [2, 5, 10],\n",
      " 'n_estimators': [200, 400, 600, 800, 1000, 1200, 1400, 1600, 1800, 2000]}\n"
     ]
    }
   ],
   "source": [
    "# 8 lineas de c�digo\n",
    "n_estimators = [int(x) for x in np.linspace(start = 200, stop = 2000, num = 10)]\n",
    "# Number of features to consider at every split\n",
    "max_features = ['auto', 'sqrt']\n",
    "# Maximum number of levels in tree\n",
    "max_depth = [int(x) for x in np.linspace(10, 110, num = 11)]\n",
    "max_depth.append(None)\n",
    "# Minimum number of samples required to split a node\n",
    "min_samples_split = [2, 5, 10]\n",
    "# Minimum number of samples required at each leaf node\n",
    "min_samples_leaf = [1, 2, 4]\n",
    "# Method of selecting samples for training each tree\n",
    "bootstrap = [True, False]\n",
    "# Create the random grid\n",
    "random_grid = {'n_estimators': n_estimators,\n",
    "               'max_features': max_features,\n",
    "               'max_depth': max_depth,\n",
    "               'min_samples_split': min_samples_split,\n",
    "               'min_samples_leaf': min_samples_leaf,\n",
    "               'bootstrap': bootstrap}\n",
    "pprint(random_grid)\n"
   ]
  },
  {
   "cell_type": "markdown",
   "metadata": {},
   "source": [
    "30. Ahora ya podemos implementar un GridSearchCV. Para hacerlo mas r�pido, se utiliza una versi�n que no prueba con todas las combinaciones posibles, sino con unas cuantas de forma aleatorias.(de ah� su nombre, RandomizedSearchCV). Implementalo, teniendo en cuenta que tiene como parametros el modelo a ajustar y el diccionario que hemos definido antes, entre otros. Este paso puede durar unos minutos, ya que tiene que ajustar muchos modelos para encontrar el mejor. Aqu� est� la [documentaci�n](https://scikit-learn.org/stable/modules/generated/sklearn.model_selection.RandomizedSearchCV.html) del RandomizedSearchCV."
   ]
  },
  {
   "cell_type": "code",
   "execution_count": null,
   "metadata": {
    "pycharm": {
     "is_executing": false
    }
   },
   "outputs": [
    {
     "name": "stdout",
     "output_type": "stream",
     "text": [
      "Fitting 3 folds for each of 100 candidates, totalling 300 fits\n"
     ]
    },
    {
     "name": "stderr",
     "output_type": "stream",
     "text": [
      "[Parallel(n_jobs=-1)]: Using backend LokyBackend with 4 concurrent workers.\n"
     ]
    }
   ],
   "source": [
    "#Dos lineas de c�digo\n",
    "rf_random = RandomizedSearchCV(estimator = rf, param_distributions = random_grid, n_iter = 100, cv = 3, verbose=2, random_state=42, n_jobs = -1)\n",
    "scores = cross_val_score(rf_random, x_test, y_test, cv=5, scoring='neg_mean_squared_error')\n",
    "print(scores)\n",
    "rf_random.best_params_"
   ]
  },
  {
   "cell_type": "markdown",
   "metadata": {},
   "source": [
    "31. Para terminar, encuentra el mean squared error y $R^2$ del mejor modelo que hallas creado. "
   ]
  },
  {
   "cell_type": "code",
   "execution_count": null,
   "metadata": {
    "pycharm": {
     "is_executing": false
    }
   },
   "outputs": [],
   "source": [
    "#Seis lineas de c�digo\n",
    "score_mse = cross_val_score(rf, x_test, y_test, cv=5, scoring='neg_mean_squared_error')\n",
    "score_r2 = cross_val_score(rf, x_test, y_test, cv=5, scoring='r2_score')"
   ]
  },
  {
   "cell_type": "markdown",
   "metadata": {},
   "source": [
    "Ahora, �a mejorar esa score!\n",
    "Puedes probar a:\n",
    "- Eliminar features que no sean relevantes para la predicci�n\n",
    "- Implementar Gradient boosting utilizando XBoost o Adaboost, entre otros\n",
    "- Ajustar los hiperpar�metros manualmente para llegar a mejores modelos\n",
    "- Utilizar un Tree Interpreter para ver qu� �rboles de decisi�n tienen mas importancia"
   ]
  },
  {
   "cell_type": "markdown",
   "metadata": {},
   "source": [
    "Al acabar el challenge, os daremos un validation set para ver que grupo ha conseguido la mejor score. �Quien gane tiene premio!"
   ]
  }
 ],
 "metadata": {
  "kernelspec": {
   "display_name": "PyCharm (ML_2_REGRESSION)",
   "language": "python",
   "name": "pycharm-7a0f0d16"
  },
  "language_info": {
   "codemirror_mode": {
    "name": "ipython",
    "version": 3
   },
   "file_extension": ".py",
   "mimetype": "text/x-python",
   "name": "python",
   "nbconvert_exporter": "python",
   "pygments_lexer": "ipython3",
   "version": "3.6.10"
  }
 },
 "nbformat": 4,
 "nbformat_minor": 4
}
